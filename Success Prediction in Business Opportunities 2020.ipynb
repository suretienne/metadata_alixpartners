{
 "cells": [
  {
   "cell_type": "markdown",
   "metadata": {
    "colab_type": "text",
    "id": "1u5i1cHX_3tb"
   },
   "source": [
    "![texto alternativo](https://metadata.fundacionsadosky.org.ar/media/media/images/MetaData_-_Predicci%C3%B3n_de_%C3%A9xito_-_ECI_Alix.png)\n",
    "\n",
    "\n",
    "# Predicción de éxitos en oportunidades comerciales 2020\n",
    "\n",
    "---\n",
    "\n",
    "Link: https://metadata.fundacionsadosky.org.ar/competition/20/\n",
    "\n",
    "Author: Mg. Panuccio Abraham Alan\n",
    "\n",
    "---"
   ]
  },
  {
   "cell_type": "markdown",
   "metadata": {
    "colab_type": "text",
    "id": "qA0VFZlilJXP"
   },
   "source": [
    "## Objetivo\n",
    "\n",
    "Predicción del éxito de oportunidades comerciales de una empresa de comercialización e instalación de equipos de aire acondicionado para grandes superficies.\n",
    "\n",
    "Para cumplir este objetivo, se construye un **modelo de clasificación** que aprenda los patrones que tienen en común las oportunidades que fueron exitosas y que las diferencia de aquellas que no tuvieron éxito.\n",
    "\n",
    "El modelo predice la **probabilidad de éxito** para cada oportunidad comercial **de los últimos 4 meses**, de las cuales no conocemos el resultado real."
   ]
  },
  {
   "cell_type": "markdown",
   "metadata": {
    "colab_type": "text",
    "id": "shAoiXHI8hV4"
   },
   "source": [
    "## Diccionario de variables"
   ]
  },
  {
   "cell_type": "markdown",
   "metadata": {
    "colab_type": "text",
    "id": "2wU3ampcopj8"
   },
   "source": [
    "\n",
    "- ID: id único del registro (Entero).\n",
    "  \n",
    "- Región: región de la oportunidad (Categórica).\n",
    "  \n",
    "- Territory: territorio comercial de la oportunidad (Categórica).\n",
    "  \n",
    "- Pricing, Delivery_Terms_Quote_Approval: variable que denomina si la oportunidad necesita aprobación especial de su precio total y los términos de la entrega (Binaria).\n",
    "  \n",
    "- Pricing, Delivery_Terms_Approved: variable que denomina si la oportunidad obtuvo aprobación especial de su precio total y los términos de la entrega (Binaria).\n",
    "  \n",
    "- Bureaucratic_Code_0_Approval: variable que denomina si la oportunidad necesita el código burocrático 0 (Binaria).\n",
    "  \n",
    "- Bureaucratic_Code_0_Approved: variable que denomina si la oportunidad obtuvo el código burocrático 0 (Binaria).\n",
    "  \n",
    "- Submitted_for_Approval: variable que denomina si fue entregada la oportunidad para la aprobación (Binaria).\n",
    "  \n",
    "- Bureaucratic_Code: códigos burocráticos que obtuvo la oportunidad (Categórica).\n",
    "  \n",
    "- Account_Created_Date: fecha de creación de la cuenta del cliente (Datetime).\n",
    "  \n",
    "- Source: fuente de creación de la oportunidad (Categórica).\n",
    "  \n",
    "- Billing_Country: país donde se emite la factura (Categórica).\n",
    "  \n",
    "- Account_Name: nombre de la cuenta del cliente (Categórica).\n",
    "  \n",
    "- Opportunity_Name: nombre de la oportunidad (Categórica).\n",
    "  \n",
    "- Opportunity_ID: id de la oportunidad (Entero).\n",
    "  \n",
    "- Sales_Contract_No: número de contrato (Entero).\n",
    "  \n",
    "- Account_Owner: vendedor del equipo comercial responsable de la cuenta cliente (Categórica).\n",
    "  \n",
    "- Opportunity_Owner: vendedor del equipo comercial responsable de la oportunidad comercial (Categórica).\n",
    "  \n",
    "- Account_Type: tipo de cuenta cliente (Categórica).\n",
    "  \n",
    "- Opportunity_Type: tipo de oportunidad (Categórica).\n",
    "  \n",
    "- Quote_Type: tipo de presupuesto (Categórica).\n",
    "  \n",
    "- Delivery_Terms: términos de entrega (Categórica).\n",
    "  \n",
    "- Opportunity_Created_Date: fecha de creación de la oportunidad comercial (Datetime).\n",
    "  \n",
    "- Brand: marca del producto (Categórica).\n",
    "  \n",
    "- Product_Type: tipo de producto (Categórica).\n",
    "  \n",
    "- Size: tamaño del producto (Categórica).\n",
    "  \n",
    "- Product_Category_B: categoría 'B' del producto (Categórica).\n",
    "  \n",
    "- Price: precio (Decimal).\n",
    "  \n",
    "- Currency: moneda (Categórica).\n",
    "  \n",
    "- Last_Activity: fecha de la última actividad (Datetime).\n",
    "  \n",
    "- Quote_Expiry_Date: fecha de vencimiento del presupuesto (Datetime).\n",
    "  \n",
    "- Last_Modified_Date: fecha de ultima modificación en la oportunidad (Datetime).\n",
    "  \n",
    "- Last_Modified_By: usuario responsable de la última modificación en la oportunidad (Categórica).\n",
    "  \n",
    "- Product_Family: familia de producto (Categórica).\n",
    "  \n",
    "- Product_Name: nombre del producto (Categórica).\n",
    "  \n",
    "- ASP_Currency: moneda del precio promedio (Categórica).\n",
    "  \n",
    "- ASP: (Average Selling Price) precio promedio a la venta (Decimal).\n",
    "  \n",
    "- ASP_(converted)_Currency: moneda del precio promedio convertido en la variable (Categórica)\n",
    "  \n",
    "- ASP_(converted): precio promedio a la venta convertido a otra moneda (Decimal).\n",
    "  \n",
    "- Planned_Delivery_Start_Date: límite inferior del rango previsto para la fecha de entrega (Datetime).\n",
    "  \n",
    "- Planned_Delivery_End_Date: límite superior del rango previsto para la fecha de entrega (Datetime).\n",
    "  \n",
    "- Month: mes-año de Planned_Delivery_Start_Date (Fecha).\n",
    "  \n",
    "- Delivery_Quarter: trimestre de Planned_Delivery_Start_Date (Categorica).\n",
    "  \n",
    "- Delivery_Year: año de Planned_Delivery_Start_Date (Fecha).\n",
    "  \n",
    "- Actual_Delivery_Date: fecha real de la entrega (Datetime).\n",
    "  \n",
    "- Total_Power: potencia del producto (Entero).\n",
    "  \n",
    "- Total_Amount_Currency: moneda del monto total (Decimal).\n",
    "  \n",
    "- Total_Amount: monto total (Decimal).\n",
    "  \n",
    "- Total_Taxable_Amount_Currency: moneda del monto gravado total (Categórica).\n",
    "  \n",
    "- Total_Taxable_Amount: monto gravado total (Categórica).\n",
    "  \n",
    "- Stage: variable target. Estado de la oportunidad (Categórica).\n",
    "  \n",
    "- Prod_Category_A: categoría 'A' del producto (Categórica).\n",
    "  \n",
    "- Total_Power_Discreet: categorización de la variable Total Power en bins (Categórica)."
   ]
  },
  {
   "cell_type": "markdown",
   "metadata": {
    "colab_type": "text",
    "id": "D-V2iEcHABdr"
   },
   "source": [
    "## Librerias y configuraciones iniciales"
   ]
  },
  {
   "cell_type": "code",
   "execution_count": null,
   "metadata": {
    "_cell_guid": "b1076dfc-b9ad-4769-8c92-a6c4dae69d19",
    "_uuid": "8f2839f25d086af736a60e9eeb907d3b93b6e0e5",
    "colab": {
     "base_uri": "https://localhost:8080/",
     "height": 125
    },
    "colab_type": "code",
    "executionInfo": {
     "elapsed": 1484,
     "status": "ok",
     "timestamp": 1594147140664,
     "user": {
      "displayName": "Alan Panuccio",
      "photoUrl": "https://lh3.googleusercontent.com/a-/AOh14Gj5pUhc1iteLa1G3O6sr29Dwvqsv3WedQgaEkdi7A=s64",
      "userId": "12064921321119825687"
     },
     "user_tz": 180
    },
    "id": "0NfUfEzf7yqX",
    "outputId": "078d6f06-0a83-4a2a-bc2a-820394bee17d"
   },
   "outputs": [],
   "source": [
    "import pickle\n",
    "import numpy as np \n",
    "import pandas as pd\n",
    "import copy\n",
    "from datetime import timedelta\n",
    "from datetime import datetime\n",
    "import pandas.core.algorithms as algos\n",
    "from pandas import Series\n",
    "import scipy.stats.stats as stats\n",
    "import string\n",
    "import functools\n",
    "from importlib import reload\n",
    "import functools\n",
    "import joblib\n",
    "from importlib.machinery import SourceFileLoader\n",
    "from sklearn.preprocessing import KBinsDiscretizer  \n",
    "from sklearn import model_selection\n",
    "from sklearn.metrics import roc_auc_score\n",
    "from sklearn.metrics import log_loss\n",
    "from sklearn import preprocessing\n",
    "\n",
    "from pandas import read_csv\n",
    "from sklearn.model_selection import cross_val_score\n",
    "from sklearn.model_selection import KFold\n",
    "from sklearn.preprocessing import StandardScaler\n",
    "from sklearn.pipeline import Pipeline\n",
    "\n",
    "from lightgbm import LGBMClassifier\n",
    "from sklearn.model_selection import train_test_split\n",
    "from hyperopt import hp, tpe\n",
    "from hyperopt.fmin import fmin\n",
    "from scipy.stats import randint as sp_randint\n",
    "from scipy.stats import uniform as sp_uniform\n",
    "import matplotlib.pyplot as plt\n",
    "import seaborn as sns\n",
    "import pydotplus\n",
    "\n",
    "from sklearn.metrics import confusion_matrix\n",
    "from sklearn.metrics import accuracy_score \n",
    "from sklearn.metrics.scorer import make_scorer\n",
    "from sklearn import metrics\n",
    "from sklearn.tree import DecisionTreeClassifier \n",
    "from sklearn.tree import export_graphviz\n",
    "from IPython.display import Image\n",
    "\n",
    "# Para ser ejecutado desde google Colab\n",
    "#from google.colab import drive\n",
    "#BASE_PATH=\"/content/gdrive/My Drive/Competencias DM/AlixPartners - Sadosky/\"\n",
    "#drive.mount('/content/gdrive/')\n",
    "\n",
    "# Definir el basepath correspondiente, donde esten los archivos de train/test y el label.encoder\n",
    "BASE_PATH=\"./\"\n"
   ]
  },
  {
   "cell_type": "markdown",
   "metadata": {
    "colab_type": "text",
    "id": "dX-uo7ekLjDw"
   },
   "source": [
    "## Preparacion de datos y Análisis Exploratorio\n",
    "La fase de preparación de datos, es donde se transforma el set da datos original, para permitir su correcto aprovechamiento para el modelo a generar.\n",
    "\n",
    "La fase de **Análisis Exploratorio** fué llevada adelante de forma iterativa y solapada con la fase de **Preparación de Datos**, por los puntos que surgían en cada iteracción y que necesitaban ser corregidos/transformados para continuar con el análisis.\n",
    "\n",
    "Esto también implico la creación de nuevas variables **Feature Engineering** y la agrupación/categorización de otras."
   ]
  },
  {
   "cell_type": "markdown",
   "metadata": {
    "colab_type": "text",
    "id": "-xl7SsMk7yqd"
   },
   "source": [
    "### Carga inicial de datos\n",
    "En la carga inicial, podemos ver que tenemos **16.947 registros** en el set de entrenamiento y **2.551 registros** en set de validación.\n",
    "\n",
    "El total de variables disponibles es **51**, en el set de entrenamiento tenemos una columna más que corresponde a la variable target.\n"
   ]
  },
  {
   "cell_type": "code",
   "execution_count": null,
   "metadata": {
    "_cell_guid": "79c7e3d0-c299-4dcb-8224-4455121ee9b0",
    "_uuid": "d629ff2d2480ee46fbb7e2d37f6b5fab8052498a",
    "colab": {
     "base_uri": "https://localhost:8080/",
     "height": 353
    },
    "colab_type": "code",
    "executionInfo": {
     "elapsed": 1586,
     "status": "ok",
     "timestamp": 1594147144292,
     "user": {
      "displayName": "Alan Panuccio",
      "photoUrl": "https://lh3.googleusercontent.com/a-/AOh14Gj5pUhc1iteLa1G3O6sr29Dwvqsv3WedQgaEkdi7A=s64",
      "userId": "12064921321119825687"
     },
     "user_tz": 180
    },
    "id": "5YstXL7B7yqe",
    "outputId": "51d2f767-c97c-4436-c65a-06591bf8f845"
   },
   "outputs": [],
   "source": [
    "# Bases de training y apply\n",
    "train = pd.read_csv(BASE_PATH+\"Entrenamieto_ECI_2020.csv\", parse_dates=[\"Account_Created_Date\",\"Opportunity_Created_Date\",\"Quote_Expiry_Date\",\"Last_Modified_Date\",\"Planned_Delivery_Start_Date\",\"Planned_Delivery_End_Date\",\"Actual_Delivery_Date\",\"Last_Activity\"])\n",
    "apply = pd.read_csv(BASE_PATH+\"Validacion_ECI_2020.csv\", parse_dates=[\"Account_Created_Date\",\"Opportunity_Created_Date\",\"Quote_Expiry_Date\",\"Last_Modified_Date\",\"Planned_Delivery_Start_Date\",\"Planned_Delivery_End_Date\",\"Actual_Delivery_Date\",\"Last_Activity\"])\n",
    "\n",
    "print(train.shape)\n",
    "print(apply.shape)\n",
    "\n",
    "train.head(5)"
   ]
  },
  {
   "cell_type": "markdown",
   "metadata": {
    "colab_type": "text",
    "id": "HKR-9Ej9MxDQ"
   },
   "source": [
    "### Conversión de montos por moneda\n",
    "\n",
    "Al analizar las distintas oportunidades, noté que no todas estaban en la misma moneda y en algunos casos como: *JPY* la **distorsión** en comparación a el valor mayoritario: *USD* podría ser de **gran magnitud**.\n",
    "\n",
    "Sin esta corrección, los modelos **aprenden patrones erróneos** ya que aprenden que oportunidades son de mayor o menor probabilidad de éxito en función del monto total, por ejemplo, pero los patrones aprendidos para oportunidades en *USD* no aplican para oportunidades en *EUR*, *JPY*, etc. \n",
    "\n",
    "Por esto, se realiza la **unificación a moneda común USD**, usando una **tasa de conversión establecida** para cada moneda origen.\n",
    "\n",
    "![texto alternativo](https://github.com/unlam-fcdin/UNLaM_FCDIN/blob/master/Conversion%20Moneda.png?raw=true)\n",
    "\n"
   ]
  },
  {
   "cell_type": "code",
   "execution_count": null,
   "metadata": {
    "colab": {
     "base_uri": "https://localhost:8080/",
     "height": 383
    },
    "colab_type": "code",
    "executionInfo": {
     "elapsed": 3600,
     "status": "ok",
     "timestamp": 1594147147224,
     "user": {
      "displayName": "Alan Panuccio",
      "photoUrl": "https://lh3.googleusercontent.com/a-/AOh14Gj5pUhc1iteLa1G3O6sr29Dwvqsv3WedQgaEkdi7A=s64",
      "userId": "12064921321119825687"
     },
     "user_tz": 180
    },
    "id": "ur7kqwFPMO4i",
    "outputId": "7f0b9431-4f22-4974-c0e0-108de4e7731f"
   },
   "outputs": [],
   "source": [
    "# Defino la tasa de conversión de cada moneda\n",
    "conv = {'USD':1, 'EUR':1.13, 'JPY':0.0093, 'AUD':0.69, 'GBP':1.25}\n",
    "\n",
    "# Función innecesaria pero que permite no acumular mucho código dentro de la función anónima lambda\n",
    "def redondear(v):\n",
    "  try:\n",
    "    r = round(v)\n",
    "    return r\n",
    "  except:\n",
    "    return -1\n",
    "\n",
    "# Muestro la media de monto total previa a la conversión y luego de la misma\n",
    "# para evidenciar la importancia del cambio\n",
    "print(\"La media de monto total previa al cambio es: {}\".format(round(train['Total_Amount'].mean())))\n",
    "\n",
    "# Aplico la conversión en el set de entrenamiento\n",
    "train['Total_Amount']          = train.apply(lambda x: redondear(conv[x['Total_Amount_Currency']] * x['Total_Amount']), axis=1)\n",
    "train['Total_Taxable_Amount']  = train.apply(lambda x: redondear(conv[x['Total_Taxable_Amount_Currency']] * x['Total_Taxable_Amount']), axis=1)\n",
    "     \n",
    "# Aplico la conversión en el set de validación\n",
    "apply['Total_Amount']          = apply.apply(lambda x: redondear(conv[x['Total_Amount_Currency']] * x['Total_Amount']), axis=1)\n",
    "apply['Total_Taxable_Amount']  = apply.apply(lambda x: redondear(conv[x['Total_Taxable_Amount_Currency']] * x['Total_Taxable_Amount']), axis=1)\n",
    "\n",
    "# Muestro la media de monto total luego de la conversión\n",
    "print(\"La media de monto total posterior al cambio es: {}\".format(round(train['Total_Amount'].mean())))\n",
    "\n",
    "# Visualizo los resultados\n",
    "train[['ID','Total_Amount_Currency','Total_Amount','Total_Taxable_Amount_Currency','Total_Taxable_Amount']].head(10)"
   ]
  },
  {
   "cell_type": "markdown",
   "metadata": {
    "colab_type": "text",
    "id": "zfUs023yqYHV"
   },
   "source": [
    "Podemos ver con facilidad, que la distorsión que existía por el tipo de moneda era relevante, ya que la media de monto total bajo un 50% aproximadamente."
   ]
  },
  {
   "cell_type": "markdown",
   "metadata": {
    "colab_type": "text",
    "id": "UWYVuugVksko"
   },
   "source": [
    "### Nivel de granularidad\n",
    "\n",
    "Ambos set de datos, entrenamiento y validación tiene un **nivel de detalle mayor al esperado en la predicción**. La predicción se realiza a nivel de oportunidad, pero los set de datos tienen el detalle de cada producto a ofrecer dentro de la oportunidad comercial.\n",
    "\n",
    "Si tomamos como ejemplo la oportunidad de id 8, vemos que hay 5 pedidos dentro de la misma oportunidad, de distintos productos y por distintos montos."
   ]
  },
  {
   "cell_type": "code",
   "execution_count": null,
   "metadata": {
    "colab": {
     "base_uri": "https://localhost:8080/",
     "height": 197
    },
    "colab_type": "code",
    "executionInfo": {
     "elapsed": 1705,
     "status": "ok",
     "timestamp": 1594147147228,
     "user": {
      "displayName": "Alan Panuccio",
      "photoUrl": "https://lh3.googleusercontent.com/a-/AOh14Gj5pUhc1iteLa1G3O6sr29Dwvqsv3WedQgaEkdi7A=s64",
      "userId": "12064921321119825687"
     },
     "user_tz": 180
    },
    "id": "tqxMOIalkSdy",
    "outputId": "5d5c4f34-831a-4eab-c127-9fee93499ffb"
   },
   "outputs": [],
   "source": [
    "(train[train.Opportunity_ID==8])[[\"Opportunity_ID\",\"ID\",\"Region\",\"Product_Family\",\"Product_Name\",\"Total_Amount\"]]"
   ]
  },
  {
   "cell_type": "markdown",
   "metadata": {
    "colab_type": "text",
    "id": "RqSzCfVTq3DF"
   },
   "source": [
    "Para construir el modelo, es necesario primero definir un set de datos con el nivel de granularidad esperado (un registro por oportunidad) y agregar la información referente al detalle del pedido dentro de la oportunidad.\n",
    "\n",
    "Antes de agrupar el set de datos, analizo que variables tienen valores distintos para una misma oportunidad, esto me permite entender que nivel de información estaría \"perdiendo\" a priori."
   ]
  },
  {
   "cell_type": "code",
   "execution_count": null,
   "metadata": {
    "colab": {
     "base_uri": "https://localhost:8080/",
     "height": 54
    },
    "colab_type": "code",
    "executionInfo": {
     "elapsed": 8480,
     "status": "ok",
     "timestamp": 1594147154939,
     "user": {
      "displayName": "Alan Panuccio",
      "photoUrl": "https://lh3.googleusercontent.com/a-/AOh14Gj5pUhc1iteLa1G3O6sr29Dwvqsv3WedQgaEkdi7A=s64",
      "userId": "12064921321119825687"
     },
     "user_tz": 180
    },
    "id": "BLtvVVZfiMm_",
    "outputId": "77ad95c3-442a-4178-b002-fda391735a2e"
   },
   "outputs": [],
   "source": [
    "cols_cambian = []\n",
    "\n",
    "for c in [f for f in train.columns if 'ID' not in f]:\n",
    "  # Agrego el primer registro tambien\n",
    "  train_f = train.groupby([\"Opportunity_ID\"]).first().reset_index()[[\"Opportunity_ID\", c]]\n",
    "\n",
    "  # El agrupado por Opportunity\n",
    "  trainw = train.groupby([\"Opportunity_ID\"]).last().reset_index()\n",
    "\n",
    "  # merge\n",
    "  trainw = trainw.merge(train_f, on=\"Opportunity_ID\", how=\"left\", suffixes=(\"\", \"_f\"))\n",
    "\n",
    "  if(trainw[trainw[c] != trainw[c+\"_f\"]].shape[0] > 0):\n",
    "    cols_cambian.append(c)\n",
    "\n",
    "print(\"Columnas con más de un valor por oportunidad: \"+str(cols_cambian))"
   ]
  },
  {
   "cell_type": "markdown",
   "metadata": {
    "colab_type": "text",
    "id": "juiJYFhpraLC"
   },
   "source": [
    "De este primer análisis, podemos ver que **las columnas que tienen valores distintos**, son las que estarían (a priori) relacionadas con **cada producto distinto incluido** dentro de la oportunidad.\n",
    "\n",
    "Lo cual hace sentido, ya que los montos, periodos de entrega y categorías de cada producto pedido pueden diferir dentro de una misma oportunidad."
   ]
  },
  {
   "cell_type": "markdown",
   "metadata": {
    "colab_type": "text",
    "id": "pZBZIsuIrr1v"
   },
   "source": [
    "### Unificación de oportunidades\n",
    "Una vez identificado el nivel de granularidad, se procede a unificar las oportunidades, **dejando solo un registro por oportunidad generada**, sumando variables agregadas que resultaron de interés para las pruebas iniciales, las variables agregadas fueron:\n",
    "\n",
    "  - `Total_Amount_t`: Se suman los montos de cada pedido dentro de la oportunidad.\n",
    "\n",
    "  -  `ASP_(converted)_t`: Se suman los montos de cada pedido dentro de la oportunidad.\n",
    "\n",
    "  - `Planned_Delivery_End_Date_m`: Se calcula la fecha mínima de entrega dentro de la oportunidad, para calcular el SLA de cada oportunidad, en función del pedido con entrega más próxima.\n"
   ]
  },
  {
   "cell_type": "code",
   "execution_count": null,
   "metadata": {
    "colab": {
     "base_uri": "https://localhost:8080/",
     "height": 406
    },
    "colab_type": "code",
    "executionInfo": {
     "elapsed": 7234,
     "status": "ok",
     "timestamp": 1594147154941,
     "user": {
      "displayName": "Alan Panuccio",
      "photoUrl": "https://lh3.googleusercontent.com/a-/AOh14Gj5pUhc1iteLa1G3O6sr29Dwvqsv3WedQgaEkdi7A=s64",
      "userId": "12064921321119825687"
     },
     "user_tz": 180
    },
    "id": "h9dGsqOfIzR1",
    "outputId": "a3b445cb-83c4-4eb1-9e0a-c37d6b249308"
   },
   "outputs": [],
   "source": [
    "print(\"[TRAIN] - Cantidad de registros - previo unificación: {}\".format(train.shape[0]))\n",
    "\n",
    "# Aplico el agregamiento en el set de entrenamiento\n",
    "train[\"Total_Amount_t\"]             = train.reset_index().groupby([\"Opportunity_ID\"])[\"Total_Amount\"].transform('sum')\n",
    "train[\"ASP_(converted)_t\"]          = train.reset_index().groupby([\"Opportunity_ID\"])[\"ASP_(converted)\"].transform('sum')\n",
    "train[\"Planned_Delivery_End_Date_m\"]  = train.reset_index().groupby([\"Opportunity_ID\"])[\"Planned_Delivery_End_Date\"].transform('min')\n",
    "train = train.groupby([\"Opportunity_ID\"]).last().reset_index()\n",
    "\n",
    "print(\"[TRAIN] - Cantidad de registros - post   unificación: {}\".format(train.shape[0]))\n",
    "\n",
    "print(\"-\"*100)\n",
    "\n",
    "print(\"[VALIDATION] - Cantidad de registros - previo unificación: {}\".format(apply.shape[0]))\n",
    "\n",
    "# Aplico el agregamiento en el set de validación\n",
    "apply[\"Total_Amount_t\"]             = apply.reset_index().groupby([\"Opportunity_ID\"])[\"Total_Amount\"].transform('sum')\n",
    "apply[\"ASP_(converted)_t\"]          = apply.reset_index().groupby([\"Opportunity_ID\"])[\"ASP_(converted)\"].transform('sum')\n",
    "apply[\"Planned_Delivery_End_Date_m\"]  = apply.reset_index().groupby([\"Opportunity_ID\"])[\"Planned_Delivery_End_Date\"].transform('min')\n",
    "apply = apply.groupby([\"Opportunity_ID\"]).last().reset_index()\n",
    "\n",
    "print(\"[VALIDATION] - Cantidad de registros - post   unificación: {}\".format(apply.shape[0]))\n",
    "\n",
    "train.head(5)"
   ]
  },
  {
   "cell_type": "markdown",
   "metadata": {
    "colab_type": "text",
    "id": "ytEiYKwO1G9b"
   },
   "source": [
    "Realizada la unificación, podemos notar que la cantidad real de oportunidades es mucho menor, tanto en el set de entrenamiento como en el set de validación.\n",
    "\n",
    "Se dispone de un set de datos de entrenamiento con información de **9.841** oportunidades y un set de datos de validación con **1.567** oportunidades."
   ]
  },
  {
   "cell_type": "markdown",
   "metadata": {
    "colab_type": "text",
    "id": "3LwOaktJ7yqh"
   },
   "source": [
    "### Target de predicción\n",
    "\n",
    "Se opta por construir un **target binario**, para separar cuales oportunidades fueron exitosas y cuales no. Considerando como exitosas aquellas oportunidades que alcanzaron el estado (Stage): *Closed Won*."
   ]
  },
  {
   "cell_type": "code",
   "execution_count": null,
   "metadata": {
    "colab": {
     "base_uri": "https://localhost:8080/",
     "height": 137
    },
    "colab_type": "code",
    "executionInfo": {
     "elapsed": 6151,
     "status": "ok",
     "timestamp": 1594147155612,
     "user": {
      "displayName": "Alan Panuccio",
      "photoUrl": "https://lh3.googleusercontent.com/a-/AOh14Gj5pUhc1iteLa1G3O6sr29Dwvqsv3WedQgaEkdi7A=s64",
      "userId": "12064921321119825687"
     },
     "user_tz": 180
    },
    "id": "wABXQHO4AImw",
    "outputId": "a8f69b72-d998-4341-a279-c0b4b605eae9"
   },
   "outputs": [],
   "source": [
    "# Construyo la variable clase y borro el falso predictor\n",
    "train['CLASE'] = train.apply(lambda x: 1 if x['Stage']=='Closed Won' else 0, axis=1)\n",
    "train.drop([\"Stage\"], axis=1, inplace=True)\n",
    "\n",
    "# Veo la distribución por etiqueta\n",
    "train.groupby(['CLASE'])[[\"Opportunity_ID\"]].count()"
   ]
  },
  {
   "cell_type": "markdown",
   "metadata": {
    "colab_type": "text",
    "id": "sa5pVohVzX_y"
   },
   "source": [
    "A primera vista, vemos que se trata de una clase con un buen balance, pero **intuyo que el set de datos fué balanceado para la competencia**, ya que no me imagino (a priori, puedo estar equivocado) que la efectividad de oportunidades sea del 50%, sería un buen muy buen ratio.\n",
    "\n",
    "Para continuar, podemos ver la **distribución de la tasa de éxito en función del tiempo**, usando el año de creación de la oportunidad."
   ]
  },
  {
   "cell_type": "code",
   "execution_count": null,
   "metadata": {
    "colab": {
     "base_uri": "https://localhost:8080/",
     "height": 275
    },
    "colab_type": "code",
    "executionInfo": {
     "elapsed": 4791,
     "status": "ok",
     "timestamp": 1594147156158,
     "user": {
      "displayName": "Alan Panuccio",
      "photoUrl": "https://lh3.googleusercontent.com/a-/AOh14Gj5pUhc1iteLa1G3O6sr29Dwvqsv3WedQgaEkdi7A=s64",
      "userId": "12064921321119825687"
     },
     "user_tz": 180
    },
    "id": "TRjKDodtemYU",
    "outputId": "49f40ba1-3e80-48b8-89cf-f8feee1c84a9"
   },
   "outputs": [],
   "source": [
    "trainf = copy.copy(train)\n",
    "trainf['ANIO'] = trainf.apply(lambda x: x.Opportunity_Created_Date.year, axis=1)\n",
    "\n",
    "# Muestro la tasa de éxito general (del set de entrenamiento)\n",
    "print(\"Tasa de éxito general: {}%\".format(round(train['CLASE'].mean()*100)))\n",
    "\n",
    "# Muestro la tasa de éxito por año de creación de la oportunidad\n",
    "trainf.groupby([\"ANIO\"])[['CLASE']].mean()"
   ]
  },
  {
   "cell_type": "markdown",
   "metadata": {
    "colab_type": "text",
    "id": "2HtakzOk0o1z"
   },
   "source": [
    "Vemos que la tasa de éxito fué variando en cada año, pero tiene un buen balance desde 2017 en adelante, lo mismo sucede con la cantidad de oportunidades por año, el grueso de oportunidades se genera desde 2016 en adelante."
   ]
  },
  {
   "cell_type": "code",
   "execution_count": null,
   "metadata": {
    "colab": {
     "base_uri": "https://localhost:8080/",
     "height": 257
    },
    "colab_type": "code",
    "executionInfo": {
     "elapsed": 2468,
     "status": "ok",
     "timestamp": 1594147156160,
     "user": {
      "displayName": "Alan Panuccio",
      "photoUrl": "https://lh3.googleusercontent.com/a-/AOh14Gj5pUhc1iteLa1G3O6sr29Dwvqsv3WedQgaEkdi7A=s64",
      "userId": "12064921321119825687"
     },
     "user_tz": 180
    },
    "id": "0VpsVrw906oP",
    "outputId": "a291d3f2-d896-4a1f-d7f5-43dcc7c63384"
   },
   "outputs": [],
   "source": [
    "# Muestro la cantidad de oportunidades por año\n",
    "trainf.groupby([\"ANIO\"])[['CLASE']].count()"
   ]
  },
  {
   "cell_type": "markdown",
   "metadata": {
    "colab_type": "text",
    "id": "ZT_jony802l8"
   },
   "source": [
    "Vemos la tasa de éxito en un gráfico por año para que sea un poco más visual"
   ]
  },
  {
   "cell_type": "code",
   "execution_count": null,
   "metadata": {
    "colab": {
     "base_uri": "https://localhost:8080/",
     "height": 560
    },
    "colab_type": "code",
    "executionInfo": {
     "elapsed": 2432,
     "status": "ok",
     "timestamp": 1594147158856,
     "user": {
      "displayName": "Alan Panuccio",
      "photoUrl": "https://lh3.googleusercontent.com/a-/AOh14Gj5pUhc1iteLa1G3O6sr29Dwvqsv3WedQgaEkdi7A=s64",
      "userId": "12064921321119825687"
     },
     "user_tz": 180
    },
    "id": "moyWgzZEhdpz",
    "outputId": "72d32ce4-6de9-4d0e-bfe4-4daed603ed48"
   },
   "outputs": [],
   "source": [
    "plt.figure(figsize=(20,10))\n",
    "plt.rcParams.update({'font.size': 22})\n",
    "plt.plot(trainf.groupby([\"ANIO\"])[['CLASE']].mean()*100)"
   ]
  },
  {
   "cell_type": "markdown",
   "metadata": {
    "colab_type": "text",
    "id": "3uteZl1z1tn9"
   },
   "source": [
    "### Target Leakage"
   ]
  },
  {
   "cell_type": "markdown",
   "metadata": {
    "colab_type": "text",
    "id": "wFpb0n5OmbBn"
   },
   "source": [
    "#### Sales_Contract_No\n",
    "La variable `Sales_Contract_No` representa un claro ejemplo de **Target Leakage**.\n",
    "\n",
    "En un primer análisis exploratorio de datos, surgió la increíble capacidad predictiva que generaba la variable `Sales_Contract_No`, no fue necesario profundizar mucho más para entender que se trataba de un falso predictor, ya que **esta variable de forma aislada generaba un accuracy del 94%**, sin necesidad de aplicar ningún modelo.\n",
    "\n",
    "A los fines de la competencia, ya que el 50% de la nota dependía del score final, utilice esta variable para el modelo, pero **no tiene ningún sentido en un modelo real de negocio**. \n",
    "\n",
    "Esto se debe a que aquellas oportunidades que tenían algún valor (distinto de None) en esta variable, tenían una probabilidad del 94% de tener éxito, lo que de forma intuitiva se puede interpretar como que **en realidad la oportunidad ya era exitosa**, por eso se firmó el contrato de venta y por eso tiene un número asignado de contrato.\n",
    "\n",
    "Si se utilizan este tipo de variables, el modelo se basa en ellas para realizar la predicción, pero ante nuevas observaciones donde no se tiene este dato, **el poder predictivo real cae de forma exponencial**.\n",
    "\n",
    "Como ejemplo, voy a crear una variable flag que indica si se firmó o no el contrato y veremos **la curva ROC** de dicha variable y la **AUC** generada."
   ]
  },
  {
   "cell_type": "code",
   "execution_count": null,
   "metadata": {
    "colab": {
     "base_uri": "https://localhost:8080/",
     "height": 234
    },
    "colab_type": "code",
    "executionInfo": {
     "elapsed": 2117,
     "status": "ok",
     "timestamp": 1594147162986,
     "user": {
      "displayName": "Alan Panuccio",
      "photoUrl": "https://lh3.googleusercontent.com/a-/AOh14Gj5pUhc1iteLa1G3O6sr29Dwvqsv3WedQgaEkdi7A=s64",
      "userId": "12064921321119825687"
     },
     "user_tz": 180
    },
    "id": "g3qh16Il-zmi",
    "outputId": "5eb8eead-c6f7-40ad-db28-f22982159870"
   },
   "outputs": [],
   "source": [
    "train['con_sales_contract'] = train.apply(lambda x: 0 if x['Sales_Contract_No'] is None or 'None' in x['Sales_Contract_No']  else 1, axis=1)\n",
    "apply['con_sales_contract'] = apply.apply(lambda x: 0 if x['Sales_Contract_No'] is None or 'None' in x['Sales_Contract_No']  else 1, axis=1)\n",
    "\n",
    "train.groupby(['con_sales_contract','CLASE']).count()"
   ]
  },
  {
   "cell_type": "markdown",
   "metadata": {
    "colab_type": "text",
    "id": "h1Paw5Bi3KEh"
   },
   "source": [
    "Con la primer tabla de contigencia ( o tabla cruzada ) comparando la nueva variable generada ( `con_sales_contract` ) y el target de predicción, podemos ver que **el 98% de las oportunidades que fueron exitosas tenían contrato firmado** y que **el 94% de las oportunidades con contrato firmado fueron exitosas**, desde ambos puntos de vista se comprueba la relación. \n",
    "<br>\n",
    "\n",
    "Graficamos la **curva ROC** utilizando solo la variable `con_sales_contract` para ordernar las oportunidades de mayor a menor probabilidad de éxito, sin generar ningún modelo."
   ]
  },
  {
   "cell_type": "code",
   "execution_count": null,
   "metadata": {
    "colab": {
     "base_uri": "https://localhost:8080/",
     "height": 538
    },
    "colab_type": "code",
    "executionInfo": {
     "elapsed": 1290,
     "status": "ok",
     "timestamp": 1594147166794,
     "user": {
      "displayName": "Alan Panuccio",
      "photoUrl": "https://lh3.googleusercontent.com/a-/AOh14Gj5pUhc1iteLa1G3O6sr29Dwvqsv3WedQgaEkdi7A=s64",
      "userId": "12064921321119825687"
     },
     "user_tz": 180
    },
    "id": "hmgju_SW3Q0P",
    "outputId": "4a1a68e5-6ff2-4d13-faaf-9ed3e940c6e7"
   },
   "outputs": [],
   "source": [
    "plt.figure(figsize=(15, 8))\n",
    "\n",
    "fpr, tpr, _ = metrics.roc_curve(train['CLASE'],  train['con_sales_contract'])\n",
    "auc = metrics.roc_auc_score(train['CLASE'], train['con_sales_contract'])\n",
    "print(\"AUC - Área Bajo la Curva: {}\".format(auc))\n",
    "\n",
    "# Graficamos la curva roc del arbol\n",
    "plt.plot(fpr,tpr,label=\"AUC=\"+str(round(auc,3)))\n",
    "plt.xlabel('% Fracasos', fontsize=14)\n",
    "plt.ylabel('% Éxitos', fontsize=14)\n",
    "plt.legend(loc=4, fontsize=12)\n",
    "\n",
    "# Graficamos la recta del azar\n",
    "it = [i/100 for i in range(100)]\n",
    "plt.plot(it,it,label=\"AZAR, AUC=0.5\",color=\"red\")\n",
    "\n",
    "plt.title(\"Curva ROC\", fontsize=14)\n",
    "plt.tick_params(labelsize=12);\n",
    "plt.show()"
   ]
  },
  {
   "cell_type": "markdown",
   "metadata": {
    "colab_type": "text",
    "id": "Q5H5G5iG4DhB"
   },
   "source": [
    "A primera vista, con la **pendiente casi vertical de la curva ROC** podemos ver como solo esta variable generaría una enorme capacidad predictiva, la cual es irreal en terminos reales de aplicación."
   ]
  },
  {
   "cell_type": "markdown",
   "metadata": {
    "colab_type": "text",
    "id": "stHVBUxH58oR"
   },
   "source": [
    "#### Posible Leakage general\n",
    "Existen algunas otras variables, donde la relación no es tan directa como con el número de contrato, pero que intuyo **pueden estar embebiendo, de forma no intencional, información del futuro**, esto se debe principalmente a que el set de datos es una foto final de cada oportunidad.\n",
    "\n",
    "Si tuviera que generar un modelo real de negocio, **generaría snapshots mensuales (a priori) con el estado de cada oportunidad al momento de la foto**, así evitar incluir información de acciones futuras con lo cual el modelo, cuando deba predecir una nueva observación, no va a contar.\n",
    "\n",
    "Esto mismo aplica para la variable número de contrato, solo que en el caso particular de la competencia, el target leakage estaba presente también en los datos de validación, generando un score alto, incluso en la competencia.\n",
    "\n",
    "Detallo alguna de las variables que considero requieren un análisis adicional con información de contexto."
   ]
  },
  {
   "cell_type": "markdown",
   "metadata": {
    "colab_type": "text",
    "id": "DHldTTNF6tsa"
   },
   "source": [
    "#### Variable Month\n",
    "\n",
    "La variable `Month` aumenta la capacidad predictiva del modelo, pero a priori no considero que deba utilizarse en un modelo real, ya que es solo una categorización de los meses de entrega, estimo que su poder predictivo está relacionado a que el modelo **memoriza** los meses donde hubo **mejor tasa de éxito en oportunidades** y, dado que el set de **validación comparte meses de entrega con el de entrenamiento**, esto le permite tener un buen poder predictivo, incluso en la competencia.\n",
    "\n",
    "Esto es una inferencia, necesitaría mas información sobre como se generó el set de datos para poder decirlo a ciencia cierta."
   ]
  },
  {
   "cell_type": "code",
   "execution_count": null,
   "metadata": {
    "colab": {
     "base_uri": "https://localhost:8080/",
     "height": 651
    },
    "colab_type": "code",
    "executionInfo": {
     "elapsed": 1974,
     "status": "ok",
     "timestamp": 1594147171658,
     "user": {
      "displayName": "Alan Panuccio",
      "photoUrl": "https://lh3.googleusercontent.com/a-/AOh14Gj5pUhc1iteLa1G3O6sr29Dwvqsv3WedQgaEkdi7A=s64",
      "userId": "12064921321119825687"
     },
     "user_tz": 180
    },
    "id": "5hrXRkiL843j",
    "outputId": "4f7d0763-861f-4f49-c605-6863b316acf4"
   },
   "outputs": [],
   "source": [
    "# Vemos la tasa de conversión por cada mes/año de entrega\n",
    "sub_df = train.groupby([\"Month\",\"CLASE\"])[[\"Opportunity_ID\"]].count().unstack()\n",
    "sub_df.columns = [\"Fracaso\",\"Éxito\"]\n",
    "sub_df.plot(kind=\"bar\",stacked=True, figsize=(20,10))"
   ]
  },
  {
   "cell_type": "markdown",
   "metadata": {
    "colab_type": "text",
    "id": "0XGSzP7og833"
   },
   "source": [
    "#### Variable Size\n",
    "Al parecer las oportunidades que tienen asignado un `Size` son aquellas que sabemos no tuvieron éxito, entiendo que esto puede estar relacionado con el flujo que se lleva adelante desde que llega una oportunidad hasta que fue resuelta. \n",
    "\n",
    "De igual forma considero que esto requiere un análisis adicional, para entender porque TODAS las oportunidades con `Size` asignado no fueron exitosas."
   ]
  },
  {
   "cell_type": "code",
   "execution_count": null,
   "metadata": {
    "colab": {
     "base_uri": "https://localhost:8080/",
     "height": 612
    },
    "colab_type": "code",
    "executionInfo": {
     "elapsed": 1752,
     "status": "ok",
     "timestamp": 1594147172779,
     "user": {
      "displayName": "Alan Panuccio",
      "photoUrl": "https://lh3.googleusercontent.com/a-/AOh14Gj5pUhc1iteLa1G3O6sr29Dwvqsv3WedQgaEkdi7A=s64",
      "userId": "12064921321119825687"
     },
     "user_tz": 180
    },
    "id": "AZPpW45Kdnom",
    "outputId": "feafcf82-8afc-4b48-bf27-8f2ae9e3e970"
   },
   "outputs": [],
   "source": [
    "# Vemos la tasa de conversión por cada categoría Size\n",
    "sub_df = train.groupby([\"Size\",\"CLASE\"])[[\"Opportunity_ID\"]].count().unstack()\n",
    "sub_df.columns = [\"Fracaso\",\"Éxito\"]\n",
    "sub_df.plot(kind=\"bar\",stacked=True, figsize=(20,10))"
   ]
  },
  {
   "cell_type": "code",
   "execution_count": null,
   "metadata": {
    "colab": {},
    "colab_type": "code",
    "id": "zPnodabLmxMY"
   },
   "outputs": [],
   "source": [
    "# Función custom para realizar un bining con un criterio propio\n",
    "def ntile(x: pd.core.groupby.generic.SeriesGroupBy, bucket: int):\n",
    "    def _ntile(x: pd.Series, bucket: int):\n",
    "        n = x.shape[0]\n",
    "        sub_n = n // bucket\n",
    "        diff = n - (sub_n * bucket)\n",
    "\n",
    "        result = []\n",
    "        for i in range(bucket):\n",
    "            sub_result = [i] * (sub_n + (1 if diff else 0))\n",
    "            result.extend(sub_result)\n",
    "            if diff > 0:\n",
    "                diff -= 1\n",
    "        return pd.Series(result, index=x.index)\n",
    "    \n",
    "    x = x.sort_values(ascending=False)\n",
    "    result = []\n",
    "    # partition\n",
    "    if isinstance(x, pd.core.groupby.generic.SeriesGroupBy):\n",
    "        for name, group in x:\n",
    "            result.append(_ntile(group, bucket))\n",
    "    elif isinstance(x, pd.core.groupby.generic.DataFrameGroupBy):\n",
    "        for group_id, group in x:\n",
    "            result.append(_ntile(group.iloc[:, 0], bucket))\n",
    "    elif isinstance(x, pd.Series):\n",
    "        result.append(_ntile(x, bucket))\n",
    "    elif isinstance(x, pd.DataFrame):\n",
    "        result.append(_ntile(x.iloc[:, 0], bucket))\n",
    "    else:\n",
    "        raise TypeError('`x` should be `pandas.Series` or `pandas.DataFrame` or ''`pd.core.groupby.generic.SeriesGroupBy` or ''`pd.core.groupby.generic.DataFrameGroupBy`, ''not {}.'.format(type(x)))\n",
    "    return pd.concat(result)"
   ]
  },
  {
   "cell_type": "markdown",
   "metadata": {
    "colab_type": "text",
    "id": "ovMTNyJSj3fl"
   },
   "source": [
    "### Variables de alta dimensionalidad\n",
    "\n",
    "Del análisis exploratorio, surgió que las variables `Territory` y `Account Owner` tenían **peso al momento de predecir el éxito** o nó de una oportunidad comercial.\n",
    "\n",
    "Las mismas, tenía una alta dimensionalidad (muchos valores posibles) y esto lleva a que los modelos aprendan patrones muy específicos (sobre ajustados).\n",
    "\n",
    "En base a esto, decidí crear agrupaciones propias para ambas variables, en **función de la tasa de éxito histórica**, permitiendo agrupar *las mejores y las peores categorías* por separado. Este proceso de transformación puede ser considerado dentro de las técnicas de **target embedding**.\n",
    "\n",
    "Con esta agrupación, el modelo **puede aprender patrones más fuertes** y predecir mejor otras oportunidades.\n",
    "\n",
    "Cabe resaltar que, dado que no tenía cortes temporales de los datos, no pude realizar el proceso de la forma ideal (considerando la tasa de éxito del pasado), así que tuve que tomar la tasa de éxito presente en el set de datos de entrenamiento.\n",
    "\n"
   ]
  },
  {
   "cell_type": "markdown",
   "metadata": {
    "colab_type": "text",
    "id": "XQekSB6GWqqc"
   },
   "source": [
    "#### Variable Territory"
   ]
  },
  {
   "cell_type": "code",
   "execution_count": null,
   "metadata": {
    "colab": {
     "base_uri": "https://localhost:8080/",
     "height": 353
    },
    "colab_type": "code",
    "executionInfo": {
     "elapsed": 1042,
     "status": "ok",
     "timestamp": 1594147174969,
     "user": {
      "displayName": "Alan Panuccio",
      "photoUrl": "https://lh3.googleusercontent.com/a-/AOh14Gj5pUhc1iteLa1G3O6sr29Dwvqsv3WedQgaEkdi7A=s64",
      "userId": "12064921321119825687"
     },
     "user_tz": 180
    },
    "id": "TdKUA8n0j591",
    "outputId": "7c71eb52-516a-45cc-b47f-1370f21a8473"
   },
   "outputs": [],
   "source": [
    "trainf = copy.copy(train)\n",
    "trainf[\"Territory_CLASE\"] = trainf.groupby([\"Territory\"])['CLASE'].transform('mean')\n",
    "trainf[\"Territory_CLASE\"] = ntile(trainf[\"Territory_CLASE\"], 5)\n",
    "dfd = trainf.groupby([\"Territory\"])[[\"Territory_CLASE\"]].max()\n",
    "del trainf\n",
    "\n",
    "print(train.shape)\n",
    "train = train.merge(dfd, how='left', on='Territory')\n",
    "apply = apply.merge(dfd, how='left', on='Territory')\n",
    "print(train.shape)\n",
    "\n",
    "train.head(5)"
   ]
  },
  {
   "cell_type": "markdown",
   "metadata": {
    "colab_type": "text",
    "id": "7eSc6_2OuuMK"
   },
   "source": [
    "Tasa de conversión histórica por grupo de territorio"
   ]
  },
  {
   "cell_type": "code",
   "execution_count": null,
   "metadata": {
    "colab": {
     "base_uri": "https://localhost:8080/",
     "height": 227
    },
    "colab_type": "code",
    "executionInfo": {
     "elapsed": 728,
     "status": "ok",
     "timestamp": 1594147176639,
     "user": {
      "displayName": "Alan Panuccio",
      "photoUrl": "https://lh3.googleusercontent.com/a-/AOh14Gj5pUhc1iteLa1G3O6sr29Dwvqsv3WedQgaEkdi7A=s64",
      "userId": "12064921321119825687"
     },
     "user_tz": 180
    },
    "id": "dSmWLSK9utwF",
    "outputId": "0b1c6798-1827-42a5-fece-5adfdc6b1a0b"
   },
   "outputs": [],
   "source": [
    "train.groupby([\"Territory_CLASE\"])[['CLASE']].mean()"
   ]
  },
  {
   "cell_type": "code",
   "execution_count": null,
   "metadata": {
    "colab": {
     "base_uri": "https://localhost:8080/",
     "height": 563
    },
    "colab_type": "code",
    "executionInfo": {
     "elapsed": 1276,
     "status": "ok",
     "timestamp": 1594147178555,
     "user": {
      "displayName": "Alan Panuccio",
      "photoUrl": "https://lh3.googleusercontent.com/a-/AOh14Gj5pUhc1iteLa1G3O6sr29Dwvqsv3WedQgaEkdi7A=s64",
      "userId": "12064921321119825687"
     },
     "user_tz": 180
    },
    "id": "fE3swQNyBUxy",
    "outputId": "1cf4b11e-537e-4475-c652-1ef34d76ec99"
   },
   "outputs": [],
   "source": [
    "# Vemos la tasa de conversión por cada categoría\n",
    "sub_df = train.groupby([\"Territory_CLASE\",\"CLASE\"])[[\"Opportunity_ID\"]].count().unstack()\n",
    "sub_df.columns = [\"Fracaso\",\"Éxito\"]\n",
    "sub_df.plot(kind=\"bar\",stacked=True, figsize=(20,10))"
   ]
  },
  {
   "cell_type": "markdown",
   "metadata": {
    "colab_type": "text",
    "id": "HlVRcai8BdA-"
   },
   "source": [
    "En el gráfico se puede apreciar como la tasa de éxito varia de grupo a grupo de forma decreciente con el número de grupo."
   ]
  },
  {
   "cell_type": "markdown",
   "metadata": {
    "colab_type": "text",
    "id": "sQqckGR0vyCU"
   },
   "source": [
    "Territorios del Mejor grupo"
   ]
  },
  {
   "cell_type": "code",
   "execution_count": null,
   "metadata": {
    "colab": {
     "base_uri": "https://localhost:8080/",
     "height": 227
    },
    "colab_type": "code",
    "executionInfo": {
     "elapsed": 1043,
     "status": "ok",
     "timestamp": 1594147180935,
     "user": {
      "displayName": "Alan Panuccio",
      "photoUrl": "https://lh3.googleusercontent.com/a-/AOh14Gj5pUhc1iteLa1G3O6sr29Dwvqsv3WedQgaEkdi7A=s64",
      "userId": "12064921321119825687"
     },
     "user_tz": 180
    },
    "id": "qPdwoBdev0i6",
    "outputId": "729ae6c2-c0ba-42b4-dd2d-d65c93bef4e6"
   },
   "outputs": [],
   "source": [
    "train[train.Territory_CLASE==0].groupby([\"Territory\"])[['CLASE']].count().sort_values(by=\"CLASE\", ascending=False).head(5)"
   ]
  },
  {
   "cell_type": "markdown",
   "metadata": {
    "colab_type": "text",
    "id": "j7iQoA7OyCOo"
   },
   "source": [
    "Territorios del Peor grupo"
   ]
  },
  {
   "cell_type": "code",
   "execution_count": null,
   "metadata": {
    "colab": {
     "base_uri": "https://localhost:8080/",
     "height": 377
    },
    "colab_type": "code",
    "executionInfo": {
     "elapsed": 617,
     "status": "ok",
     "timestamp": 1594147181376,
     "user": {
      "displayName": "Alan Panuccio",
      "photoUrl": "https://lh3.googleusercontent.com/a-/AOh14Gj5pUhc1iteLa1G3O6sr29Dwvqsv3WedQgaEkdi7A=s64",
      "userId": "12064921321119825687"
     },
     "user_tz": 180
    },
    "id": "y_jDaUUjyCd9",
    "outputId": "80f0a9b8-fd3b-4f44-99e8-8f93c4f7a5ce"
   },
   "outputs": [],
   "source": [
    "train[train.Territory_CLASE==4].groupby([\"Territory\"])[['CLASE']].count().sort_values(by=\"CLASE\", ascending=False).head(10)"
   ]
  },
  {
   "cell_type": "markdown",
   "metadata": {
    "colab_type": "text",
    "id": "presK0GeWvV4"
   },
   "source": [
    "#### Variable Account Owner"
   ]
  },
  {
   "cell_type": "code",
   "execution_count": null,
   "metadata": {
    "colab": {
     "base_uri": "https://localhost:8080/",
     "height": 353
    },
    "colab_type": "code",
    "executionInfo": {
     "elapsed": 1213,
     "status": "ok",
     "timestamp": 1594147182994,
     "user": {
      "displayName": "Alan Panuccio",
      "photoUrl": "https://lh3.googleusercontent.com/a-/AOh14Gj5pUhc1iteLa1G3O6sr29Dwvqsv3WedQgaEkdi7A=s64",
      "userId": "12064921321119825687"
     },
     "user_tz": 180
    },
    "id": "nygshJHsuD3O",
    "outputId": "4717993a-c809-4c28-a18a-85f3e9d99df5"
   },
   "outputs": [],
   "source": [
    "trainf = copy.copy(train)\n",
    "trainf[\"Account_Owner_CLASE\"] = trainf.groupby([\"Account_Owner\"])['CLASE'].transform('mean')\n",
    "trainf[\"Account_Owner_CLASE\"] = ntile(trainf[\"Account_Owner_CLASE\"], 5)\n",
    "dfd = trainf.groupby([\"Account_Owner\"])[[\"Account_Owner_CLASE\"]].max()\n",
    "del trainf\n",
    "\n",
    "print(train.shape)\n",
    "train = train.merge(dfd, how='left', on='Account_Owner')\n",
    "apply = apply.merge(dfd, how='left', on='Account_Owner')\n",
    "print(train.shape)\n",
    "\n",
    "train.head(5)"
   ]
  },
  {
   "cell_type": "markdown",
   "metadata": {
    "colab_type": "text",
    "id": "nMvOq3tryx6f"
   },
   "source": [
    "Tasa de conversión histórica por grupo de Account Owner"
   ]
  },
  {
   "cell_type": "code",
   "execution_count": null,
   "metadata": {
    "colab": {
     "base_uri": "https://localhost:8080/",
     "height": 227
    },
    "colab_type": "code",
    "executionInfo": {
     "elapsed": 1025,
     "status": "ok",
     "timestamp": 1594147185146,
     "user": {
      "displayName": "Alan Panuccio",
      "photoUrl": "https://lh3.googleusercontent.com/a-/AOh14Gj5pUhc1iteLa1G3O6sr29Dwvqsv3WedQgaEkdi7A=s64",
      "userId": "12064921321119825687"
     },
     "user_tz": 180
    },
    "id": "Zo-kyGhYy19s",
    "outputId": "7eab54b3-66f4-4012-8609-f6f59f67f235"
   },
   "outputs": [],
   "source": [
    "train.groupby([\"Account_Owner_CLASE\"])[['CLASE']].mean()"
   ]
  },
  {
   "cell_type": "code",
   "execution_count": null,
   "metadata": {
    "colab": {
     "base_uri": "https://localhost:8080/",
     "height": 563
    },
    "colab_type": "code",
    "executionInfo": {
     "elapsed": 1966,
     "status": "ok",
     "timestamp": 1594147186743,
     "user": {
      "displayName": "Alan Panuccio",
      "photoUrl": "https://lh3.googleusercontent.com/a-/AOh14Gj5pUhc1iteLa1G3O6sr29Dwvqsv3WedQgaEkdi7A=s64",
      "userId": "12064921321119825687"
     },
     "user_tz": 180
    },
    "id": "GnliNaLkE6F9",
    "outputId": "c4505d85-8faf-4c64-dff4-c47cc36ab0f5"
   },
   "outputs": [],
   "source": [
    "# Vemos la tasa de conversión por cada categoría\n",
    "sub_df = train.groupby([\"Account_Owner_CLASE\",\"CLASE\"])[[\"Opportunity_ID\"]].count().unstack()\n",
    "sub_df.columns = [\"Fracaso\",\"Éxito\"]\n",
    "sub_df.plot(kind=\"bar\",stacked=True, figsize=(20,10))"
   ]
  },
  {
   "cell_type": "markdown",
   "metadata": {
    "colab_type": "text",
    "id": "CJE8X1tizb3O"
   },
   "source": [
    "Principales Owners del mejor Grupo"
   ]
  },
  {
   "cell_type": "code",
   "execution_count": null,
   "metadata": {
    "colab": {
     "base_uri": "https://localhost:8080/",
     "height": 227
    },
    "colab_type": "code",
    "executionInfo": {
     "elapsed": 1352,
     "status": "ok",
     "timestamp": 1594147189422,
     "user": {
      "displayName": "Alan Panuccio",
      "photoUrl": "https://lh3.googleusercontent.com/a-/AOh14Gj5pUhc1iteLa1G3O6sr29Dwvqsv3WedQgaEkdi7A=s64",
      "userId": "12064921321119825687"
     },
     "user_tz": 180
    },
    "id": "t5iNvCeozfd6",
    "outputId": "d3c381a8-c5a5-426f-9c3f-cac1852ef5dd"
   },
   "outputs": [],
   "source": [
    "train[train.Account_Owner_CLASE==0].groupby([\"Account_Owner\"])[['CLASE']].count().sort_values(by=\"CLASE\", ascending=False).head(5)"
   ]
  },
  {
   "cell_type": "markdown",
   "metadata": {
    "colab_type": "text",
    "id": "A25x2uR00A65"
   },
   "source": [
    "Principales Owners del peor Grupo"
   ]
  },
  {
   "cell_type": "code",
   "execution_count": null,
   "metadata": {
    "colab": {
     "base_uri": "https://localhost:8080/",
     "height": 227
    },
    "colab_type": "code",
    "executionInfo": {
     "elapsed": 1746,
     "status": "ok",
     "timestamp": 1594147193130,
     "user": {
      "displayName": "Alan Panuccio",
      "photoUrl": "https://lh3.googleusercontent.com/a-/AOh14Gj5pUhc1iteLa1G3O6sr29Dwvqsv3WedQgaEkdi7A=s64",
      "userId": "12064921321119825687"
     },
     "user_tz": 180
    },
    "id": "S3dyQL1K0AVU",
    "outputId": "834a14c3-6210-45ed-c85b-a1106bfb568d"
   },
   "outputs": [],
   "source": [
    "train[train.Account_Owner_CLASE==4].groupby([\"Account_Owner\"])[['CLASE']].count().sort_values(by=\"CLASE\", ascending=False).head(5)"
   ]
  },
  {
   "cell_type": "markdown",
   "metadata": {
    "colab_type": "text",
    "id": "N8LlxrBl9pvV"
   },
   "source": [
    "### Necesidad de aprobación unificada\n",
    "Para las variables `Pricing, Delivery_Terms_Approved` y `Pricing, Delivery_Terms_Quote_Appr` decidí crear una variable que utilice información de ambas, para diferenciar aquellas oportunidades que necesitaban aprobación y la obtuvieron o no, de las que directamente no la necesitaban.\n",
    "\n",
    "Si bien, los algoritmos de clasificación son capaces de detectar estos patrones, me pareció de especial interés probar esta variable ya que a los fines de la competencia, la diferencia por puntajes en las primeras posicioens es mínima y toda información diferencial puede ser de utilidad.\n",
    "\n"
   ]
  },
  {
   "cell_type": "code",
   "execution_count": null,
   "metadata": {
    "colab": {
     "base_uri": "https://localhost:8080/",
     "height": 317
    },
    "colab_type": "code",
    "executionInfo": {
     "elapsed": 1534,
     "status": "ok",
     "timestamp": 1594147197006,
     "user": {
      "displayName": "Alan Panuccio",
      "photoUrl": "https://lh3.googleusercontent.com/a-/AOh14Gj5pUhc1iteLa1G3O6sr29Dwvqsv3WedQgaEkdi7A=s64",
      "userId": "12064921321119825687"
     },
     "user_tz": 180
    },
    "id": "QKuitrJP9qED",
    "outputId": "1cb8042a-8d06-4b2d-e9a8-facc9ecd239c"
   },
   "outputs": [],
   "source": [
    "train['Delivery_Terms_Approval'] = train.apply(lambda x: 1 if x['Pricing, Delivery_Terms_Approved'] > 0 else 0 if x['Pricing, Delivery_Terms_Quote_Appr'] > 0 else 2, axis=1)\n",
    "apply['Delivery_Terms_Approval'] = apply.apply(lambda x: 1 if x['Pricing, Delivery_Terms_Approved'] > 0 else 0 if x['Pricing, Delivery_Terms_Quote_Appr'] > 0 else 2, axis=1)\n",
    "\n",
    "train.head(5)"
   ]
  },
  {
   "cell_type": "markdown",
   "metadata": {
    "colab_type": "text",
    "id": "OJ1zrC-Uq0w-"
   },
   "source": [
    "### Variables categóricas\n",
    "Para el resto de variables categóricas, realizo la conversión con un LabelEncoder para poder utilizarlas en el modelo a aplicar LGBM.\n",
    "\n",
    "Sinceramente no es algo que me guste hacer así, pero no dispongo de más tiempo para bajar en detalle de análisis para cada variable, en un modelo serio debería analizar cada variable y entender su importancia para el modelo.\n",
    "\n",
    "**A los fines de la competencia, deje toda variable que sumara poder predictivo en el modelo, pero en muchos casos esto puede ser overfitting**."
   ]
  },
  {
   "cell_type": "code",
   "execution_count": null,
   "metadata": {
    "colab": {
     "base_uri": "https://localhost:8080/",
     "height": 252
    },
    "colab_type": "code",
    "executionInfo": {
     "elapsed": 2360,
     "status": "ok",
     "timestamp": 1594147199913,
     "user": {
      "displayName": "Alan Panuccio",
      "photoUrl": "https://lh3.googleusercontent.com/a-/AOh14Gj5pUhc1iteLa1G3O6sr29Dwvqsv3WedQgaEkdi7A=s64",
      "userId": "12064921321119825687"
     },
     "user_tz": 180
    },
    "id": "K1H9sHJ1tCb1",
    "outputId": "b9d0f60f-6e1c-4240-de57-24ff9a68e3a4"
   },
   "outputs": [],
   "source": [
    "# Leemos el encoder ya entrenado\n",
    "les = pickle.load(open(BASE_PATH+\"label.encoder\", 'rb')) \n",
    "\n",
    "cols_modified = []\n",
    "# Creamos un gráfico boxplot para analizar las variables\n",
    "for c in train.columns:\n",
    "  if(\"CLASE\" not in c and (\"str\"  in str(train.dtypes[c]) or \"object\" in str(train.dtypes[c]))):\n",
    "    train[c] = train[c].fillna('Null')\n",
    "    apply[c] = apply[c].fillna('Null')\n",
    "    cols_modified.append({'col':c, 'cant':len(list(train[c].value_counts()))})\n",
    "    \n",
    "    # Tomo el encoder de la variable asignada\n",
    "    le = copy.copy(les[c])\n",
    "\n",
    "    # Transformo training\n",
    "    train[c] = le.transform(train[c].astype(str))\n",
    "    dic = dict(zip(le.classes_, le.transform(le.classes_)))\n",
    "\n",
    "    # Transformo testing\n",
    "    try:\n",
    "      apply[c] = apply[c].astype(str).map(dic).fillna(-1).astype(int) \n",
    "    except Exception as e:\n",
    "      print(e)\n",
    "\n",
    "train['ifnullSales_Contract_No'] = train.apply(lambda x: 1 if x['Sales_Contract_No']>= 1120 and x['Sales_Contract_No'] < 4100 else 0, axis=1)\n",
    "apply['ifnullSales_Contract_No'] = apply.apply(lambda x: 1 if x['Sales_Contract_No']>= 1120 and x['Sales_Contract_No'] < 4100 else 0, axis=1)\n",
    "\n",
    "print(\"Columnas modificadas: \"+str(cols_modified))\n",
    "train.head(5)"
   ]
  },
  {
   "cell_type": "markdown",
   "metadata": {
    "colab_type": "text",
    "id": "BMmgugjo3y3C"
   },
   "source": [
    "### Variables Fechas\n",
    "Las variables de tipo fecha NO se utilizan tal cual se encuentran en el set de datos original.\n",
    "\n",
    "Las mismas se utilizaron para crear variables relativas a la fecha de alta de la oportunidad, esto bajo la premisa que la probabilidad de éxito podría depender del tiempo disponible para entrega así como de la antigüedad de la cuenta bajo la cual se generó la oportunidad.\n",
    "\n",
    "Si **existieran fotos mensuales** (o snapshots) de este set de datos, se podrían construir variables relativas más interesantes sobre la **interacción o el cambio de estado de una oportunidad de un mes al otro**, esto permitiría entender si la oportunidad sigue activa o fue frenada. \n",
    "\n",
    "Las variables creadas, fueron:\n",
    "\n",
    "- `tiempo_crear_cuenta`: Representa la antiguedad de la cuenta para la cual se genera la opotunidad, se calcula como la cantidad de días entre la creación de la cuenta y la creación de la oportunidad.\n",
    "\n",
    "- `tiempo_entrega`: Representa el tiempo disponible hasta la entrega y se calcula como la cantidad de días entre la fecha de creación de la oportunidad y la mayor fecha de entrega pactada del pedido (del último producto).\n",
    "\n",
    "- `tiempo_entrega_m`: Representa el mínimo tiempo disponible hasta la entrega y se calcula como la cantidad de días entre la fecha de creación de la oportunidad y la menor fecha de entrega pactada del pedido (del producto que se entregue primero dentro de la oportunidad).\n",
    "\n",
    "- `tiempo_hasta_ult_modif`: Representa el tiempo sucedido hasta la última modificación, y se calcula como la cantidad de días entre la fecha de última modificación y la fecha de creación de la oportunidad, para entender si la oportunidad está siendo gestionada o está frenada."
   ]
  },
  {
   "cell_type": "code",
   "execution_count": null,
   "metadata": {
    "colab": {
     "base_uri": "https://localhost:8080/",
     "height": 234
    },
    "colab_type": "code",
    "executionInfo": {
     "elapsed": 5232,
     "status": "ok",
     "timestamp": 1594147218762,
     "user": {
      "displayName": "Alan Panuccio",
      "photoUrl": "https://lh3.googleusercontent.com/a-/AOh14Gj5pUhc1iteLa1G3O6sr29Dwvqsv3WedQgaEkdi7A=s64",
      "userId": "12064921321119825687"
     },
     "user_tz": 180
    },
    "id": "jLTN0yYH30eP",
    "outputId": "6f2366ac-5585-46de-d538-b7c87922edf8"
   },
   "outputs": [],
   "source": [
    "#Variables relativas entre ellas\n",
    "train['tiempo_crear_cuenta']      = train.apply(lambda x: ( x[\"Account_Created_Date\"]       - x[\"Opportunity_Created_Date\"] ).days, axis=1)\n",
    "train['tiempo_entrega']           = train.apply(lambda x: ( x[\"Planned_Delivery_End_Date\"]  - x[\"Opportunity_Created_Date\"] ).days, axis=1)\n",
    "train['tiempo_entrega_m']         = train.apply(lambda x: ( x[\"Planned_Delivery_End_Date_m\"]- x[\"Opportunity_Created_Date\"] ).days, axis=1)\n",
    "train['tiempo_hasta_ult_modif']   = train.apply(lambda x: ( x[\"Last_Modified_Date\"]         - x[\"Opportunity_Created_Date\"] ).days, axis=1)\n",
    "\n",
    "apply['tiempo_crear_cuenta']      = apply.apply(lambda x: ( x[\"Account_Created_Date\"]       - x[\"Opportunity_Created_Date\"] ).days, axis=1)\n",
    "apply['tiempo_entrega']           = apply.apply(lambda x: ( x[\"Planned_Delivery_End_Date\"]  - x[\"Opportunity_Created_Date\"] ).days, axis=1)\n",
    "apply['tiempo_entrega_m']         = apply.apply(lambda x: ( x[\"Planned_Delivery_End_Date_m\"]- x[\"Opportunity_Created_Date\"] ).days, axis=1)\n",
    "apply['tiempo_hasta_ult_modif']   = apply.apply(lambda x: ( x[\"Last_Modified_Date\"]         - x[\"Opportunity_Created_Date\"] ).days, axis=1)\n",
    "\n",
    "train.head(5)"
   ]
  },
  {
   "cell_type": "markdown",
   "metadata": {
    "colab_type": "text",
    "id": "9ostYLZUhd7e"
   },
   "source": [
    "### Análisis de correlación Numérica\n",
    "Antes de construir un modelo, de forma iterativa con cada nueva iteración fuí comparando la correlación numérica de las variables disponibles con la variable target.\n",
    "\n",
    "Esto me fué de gran ayuda para enteder sobre que variables profundizar el análisis, tanto a nivel limpieza de datos como a nivel de construcción de nuevas variables (**Feature Engineering**)."
   ]
  },
  {
   "cell_type": "code",
   "execution_count": null,
   "metadata": {
    "colab": {
     "base_uri": "https://localhost:8080/",
     "height": 1000
    },
    "colab_type": "code",
    "executionInfo": {
     "elapsed": 4217,
     "status": "ok",
     "timestamp": 1594147218764,
     "user": {
      "displayName": "Alan Panuccio",
      "photoUrl": "https://lh3.googleusercontent.com/a-/AOh14Gj5pUhc1iteLa1G3O6sr29Dwvqsv3WedQgaEkdi7A=s64",
      "userId": "12064921321119825687"
     },
     "user_tz": 180
    },
    "id": "Jg4DXFlzAQl7",
    "outputId": "ea165dd5-6053-4dc6-9be4-722538a896fc"
   },
   "outputs": [],
   "source": [
    "train.corr()[[\"CLASE\"]].sort_values(by=\"CLASE\", ascending=False)\n"
   ]
  },
  {
   "cell_type": "markdown",
   "metadata": {
    "colab_type": "text",
    "id": "Y94p8a8QJ9-n"
   },
   "source": [
    "### Análisis por agrupado o binning\n",
    "Para entender la relación de las variables, también agrupo sus valores en quintiles/deciles/ventiles/etc. en función de la variable en cuestión y analizo como se distribuye la tasa de éxito de las oportunidades dentro de esos grupos para entender que tan fuerte es la correlación encontrada."
   ]
  },
  {
   "cell_type": "markdown",
   "metadata": {
    "colab_type": "text",
    "id": "7H0F0fF6Qin8"
   },
   "source": [
    "#### Antiguedad de la cuenta"
   ]
  },
  {
   "cell_type": "code",
   "execution_count": null,
   "metadata": {
    "colab": {
     "base_uri": "https://localhost:8080/",
     "height": 552
    },
    "colab_type": "code",
    "executionInfo": {
     "elapsed": 3283,
     "status": "ok",
     "timestamp": 1594147219880,
     "user": {
      "displayName": "Alan Panuccio",
      "photoUrl": "https://lh3.googleusercontent.com/a-/AOh14Gj5pUhc1iteLa1G3O6sr29Dwvqsv3WedQgaEkdi7A=s64",
      "userId": "12064921321119825687"
     },
     "user_tz": 180
    },
    "id": "mQ5tTJkoKZ_J",
    "outputId": "d3352ca5-22de-4e58-fb9a-0af66c7e987e"
   },
   "outputs": [],
   "source": [
    "trainf = copy.copy(train)\n",
    "trainf[\"tiempo_crear_cuenta\"] = (trainf[\"tiempo_crear_cuenta\"]/30)\n",
    "trainf[\"CLASE_MEAN\"] = trainf.groupby([\"tiempo_crear_cuenta\"])['CLASE'].transform('mean')*100\n",
    "trainf[\"tiempo_crear_cuenta_CLASE\"] = round(ntile(trainf[\"tiempo_crear_cuenta\"], 20))\n",
    "trainf[\"tiempo_crear_cuenta_CLASE\"] = trainf.groupby([\"tiempo_crear_cuenta_CLASE\"])['tiempo_crear_cuenta'].transform('max')*-1\n",
    "dfd = trainf.groupby([\"tiempo_crear_cuenta_CLASE\"])[[\"CLASE_MEAN\"]].mean().reset_index()\n",
    "dfd = dfd.sort_values(by=\"tiempo_crear_cuenta_CLASE\")\n",
    "plt.figure(figsize=(30,15))\n",
    "plt.plot(dfd.tiempo_crear_cuenta_CLASE, dfd.CLASE_MEAN)"
   ]
  },
  {
   "cell_type": "markdown",
   "metadata": {
    "colab_type": "text",
    "id": "lPsvXubwSu3A"
   },
   "source": [
    "#### Tiempo para entrega"
   ]
  },
  {
   "cell_type": "code",
   "execution_count": null,
   "metadata": {
    "colab": {
     "base_uri": "https://localhost:8080/",
     "height": 554
    },
    "colab_type": "code",
    "executionInfo": {
     "elapsed": 1657,
     "status": "ok",
     "timestamp": 1594147219881,
     "user": {
      "displayName": "Alan Panuccio",
      "photoUrl": "https://lh3.googleusercontent.com/a-/AOh14Gj5pUhc1iteLa1G3O6sr29Dwvqsv3WedQgaEkdi7A=s64",
      "userId": "12064921321119825687"
     },
     "user_tz": 180
    },
    "id": "FDO4WM55TAqK",
    "outputId": "3e196cb5-4a28-4487-a147-93127b1d683d"
   },
   "outputs": [],
   "source": [
    "trainf = copy.copy(train)\n",
    "trainf[\"tiempo_entrega\"] = (trainf[\"tiempo_entrega\"]/30)\n",
    "trainf[\"CLASE_MEAN\"] = trainf.groupby([\"tiempo_entrega\"])['CLASE'].transform('mean')*100\n",
    "trainf[\"tiempo_entrega_CLASE\"] = round(ntile(trainf[\"tiempo_entrega\"], 20))\n",
    "trainf[\"tiempo_entrega_CLASE\"] = trainf.groupby([\"tiempo_entrega_CLASE\"])['tiempo_entrega'].transform('max')\n",
    "dfd = trainf.groupby([\"tiempo_entrega_CLASE\"])[[\"CLASE_MEAN\"]].mean().reset_index()\n",
    "dfd = dfd.sort_values(by=\"tiempo_entrega_CLASE\")\n",
    "plt.figure(figsize=(30,15))\n",
    "plt.plot(dfd.tiempo_entrega_CLASE, dfd.CLASE_MEAN)"
   ]
  },
  {
   "cell_type": "markdown",
   "metadata": {
    "colab_type": "text",
    "id": "y090Lwx5WvB-"
   },
   "source": [
    "#### Fecha de ultima modificación"
   ]
  },
  {
   "cell_type": "code",
   "execution_count": null,
   "metadata": {
    "colab": {
     "base_uri": "https://localhost:8080/",
     "height": 554
    },
    "colab_type": "code",
    "executionInfo": {
     "elapsed": 1958,
     "status": "ok",
     "timestamp": 1594147221776,
     "user": {
      "displayName": "Alan Panuccio",
      "photoUrl": "https://lh3.googleusercontent.com/a-/AOh14Gj5pUhc1iteLa1G3O6sr29Dwvqsv3WedQgaEkdi7A=s64",
      "userId": "12064921321119825687"
     },
     "user_tz": 180
    },
    "id": "16N5yh1bVPH2",
    "outputId": "b9a30b38-de41-4d38-ed02-43b346ac9bf0"
   },
   "outputs": [],
   "source": [
    "trainf = copy.copy(train)\n",
    "trainf[\"tiempo_hasta_ult_modif\"] = (trainf[\"tiempo_hasta_ult_modif\"]/30)\n",
    "trainf[\"CLASE_MEAN\"] = trainf.groupby([\"tiempo_hasta_ult_modif\"])['CLASE'].transform('mean')*100\n",
    "trainf[\"tiempo_hasta_ult_modif_CLASE\"] = round(ntile(trainf[\"tiempo_hasta_ult_modif\"], 20))\n",
    "trainf[\"tiempo_hasta_ult_modif_CLASE\"] = trainf.groupby([\"tiempo_hasta_ult_modif_CLASE\"])['tiempo_hasta_ult_modif'].transform('max')\n",
    "dfd = trainf.groupby([\"tiempo_hasta_ult_modif_CLASE\"])[[\"CLASE_MEAN\"]].mean().reset_index()\n",
    "dfd = dfd.sort_values(by=\"tiempo_hasta_ult_modif_CLASE\")\n",
    "plt.figure(figsize=(30,15))\n",
    "plt.plot(dfd.tiempo_hasta_ult_modif_CLASE, dfd.CLASE_MEAN)"
   ]
  },
  {
   "cell_type": "markdown",
   "metadata": {
    "colab_type": "text",
    "id": "So0KenPFz8k3"
   },
   "source": [
    "## Variables no utilizadas\n",
    "En este punto quito del set de datos las variables no utilizadas, en general se trata de las variables fecha, las cuales se usaron para crear otras variables comparativas y variables con gran % de nulos o que generaban overfitting en el modelo.\n",
    "\n",
    "Las variables no utilizadas como tales, fueron:\n",
    "\n",
    "```\n",
    "Product_Type\n",
    "Last_Activity\n",
    "Planned_Delivery_End_Date_m\n",
    "Planned_Delivery_End_Date\n",
    "Actual_Delivery_Date\n",
    "Quote_Expiry_Date\n",
    "Opportunity_Created_Date\n",
    "Planned_Delivery_Start_Date\n",
    "Account_Created_Date\n",
    "Last_Modified_Date\n",
    "```\n",
    "\n"
   ]
  },
  {
   "cell_type": "code",
   "execution_count": null,
   "metadata": {
    "colab": {
     "base_uri": "https://localhost:8080/",
     "height": 252
    },
    "colab_type": "code",
    "executionInfo": {
     "elapsed": 1100,
     "status": "ok",
     "timestamp": 1594147222626,
     "user": {
      "displayName": "Alan Panuccio",
      "photoUrl": "https://lh3.googleusercontent.com/a-/AOh14Gj5pUhc1iteLa1G3O6sr29Dwvqsv3WedQgaEkdi7A=s64",
      "userId": "12064921321119825687"
     },
     "user_tz": 180
    },
    "id": "qeXh1qvTBCsE",
    "outputId": "1a7babce-4fb8-4b27-ee8c-854bd7565e73"
   },
   "outputs": [],
   "source": [
    "train2 = copy.copy(train)\n",
    "train2.drop([\"Product_Type\",\"Last_Activity\",\"Planned_Delivery_End_Date_m\",\"Planned_Delivery_End_Date\",\"Actual_Delivery_Date\",\"Quote_Expiry_Date\",\"Opportunity_Created_Date\",\"Planned_Delivery_Start_Date\",\"Account_Created_Date\",\"Last_Modified_Date\"], axis=1, inplace=True)\n",
    "\n",
    "apply2 = copy.copy(apply)\n",
    "apply2.drop([\"Product_Type\",\"Last_Activity\",\"Planned_Delivery_End_Date_m\",\"Planned_Delivery_End_Date\",\"Actual_Delivery_Date\",\"Quote_Expiry_Date\",\"Opportunity_Created_Date\",\"Planned_Delivery_Start_Date\",\"Account_Created_Date\",\"Last_Modified_Date\"], axis=1, inplace=True)\n",
    "\n",
    "print(train2.shape)\n",
    "train2.head(5)"
   ]
  },
  {
   "cell_type": "markdown",
   "metadata": {
    "colab_type": "text",
    "id": "xKwL9syX-vDw"
   },
   "source": [
    "## Conjunto de Testing\n",
    "Para tener una métrica propia de validación del modelo, tomo del set de datos de entrenamiento una muestra estratificada del 20% para validar el modelo entrenado."
   ]
  },
  {
   "cell_type": "code",
   "execution_count": null,
   "metadata": {
    "colab": {
     "base_uri": "https://localhost:8080/",
     "height": 282
    },
    "colab_type": "code",
    "executionInfo": {
     "elapsed": 1579,
     "status": "ok",
     "timestamp": 1594147224387,
     "user": {
      "displayName": "Alan Panuccio",
      "photoUrl": "https://lh3.googleusercontent.com/a-/AOh14Gj5pUhc1iteLa1G3O6sr29Dwvqsv3WedQgaEkdi7A=s64",
      "userId": "12064921321119825687"
     },
     "user_tz": 180
    },
    "id": "-u_jmT0B-xv1",
    "outputId": "f383d81b-ee81-44e1-a0fc-7fd3319e27c5"
   },
   "outputs": [],
   "source": [
    "# Ordeno por ID training\n",
    "train2 = train2.reset_index().drop([\"index\"], axis=1).set_index([\"ID\"])\n",
    "apply2 = apply2.reset_index().drop([\"index\"], axis=1).set_index([\"ID\"])\n",
    "\n",
    "X_train, X_test, y_train, y_test = train_test_split(train2.drop(['CLASE'], axis=1),train2['CLASE'],test_size=0.2, random_state=42)\n",
    "\n",
    "X_train = pd.get_dummies(X_train)\n",
    "X_test = pd.get_dummies(X_test)\n",
    "X_apply = pd.get_dummies(apply2)\n",
    "\n",
    "cols = set(X_train.columns).intersection(X_test.columns)\n",
    "cols = cols.intersection(X_apply.columns)\n",
    "\n",
    "X_test = X_test[cols].reset_index().set_index([\"ID\"])\n",
    "X_train = X_train[cols].reset_index().set_index([\"ID\"])\n",
    "X_apply = X_apply[cols].reset_index().set_index([\"ID\"])\n",
    "\n",
    "print(X_train.shape)\n",
    "X_train.head(5)"
   ]
  },
  {
   "cell_type": "markdown",
   "metadata": {
    "colab_type": "text",
    "id": "shbimgiwq5QC"
   },
   "source": [
    "## Construcción del modelo\n",
    "Una vez definidos los set de datos de entrenamiento y testing voy a construir un modelo aplicando el algoritmo de boosting de árboles de decisión `LGBMCLassifier`."
   ]
  },
  {
   "cell_type": "markdown",
   "metadata": {
    "colab_type": "text",
    "id": "d_fWKSTRMpA6"
   },
   "source": [
    "### Entrenamiento\n",
    "\n",
    "Para el entrenamiento del modelo, voy a aplicar la técnica de `K-Fold Cross Validation`, utilizando 20 capas y el modelo final surge de realizar un `ensamble` promediando la probabilidad asignada por cada uno de los 20 modelos generados (uno por cada capa).\n",
    "\n",
    "En cada modelo, dentro de la muestra definida (80%) el modelo se autoajusta aplicando la métrica de evaluación definida (Logistic Loss) y se limita el crecimiento de los árboles utilizando la funcionalidad de `early_stopping` de **LGBM** y definiendo una cantidad de estimadores lo suficientemente grande (`10000`).\n",
    "\n",
    "Como resultado, se obtiene un modelo mucho más complejo pero con mejor capacidad predictiva, y menor overfitting, ya que compensa los errores de cada capa con las 19 capas restantes."
   ]
  },
  {
   "cell_type": "code",
   "execution_count": null,
   "metadata": {
    "colab": {},
    "colab_type": "code",
    "id": "Vsb5YyBH7yq5"
   },
   "outputs": [],
   "source": [
    "fi = []\n",
    "apply_probs = []\n",
    "test_probs = []\n",
    "train_probs2 = []\n",
    "train_probs = []\n",
    "s = 20191125\n",
    "\n",
    "i = 0\n",
    "for train_idx, valid_idx in model_selection.StratifiedKFold(n_splits=20, shuffle=True, random_state=s).split(X_train, y_train):\n",
    "  i += 1\n",
    "\n",
    "  # Split the train & validation datasets with the cv fold ids\n",
    "  Xt = X_train.iloc[train_idx]\n",
    "  Xt = Xt.reset_index().set_index([\"ID\"])\n",
    "  yt = y_train.iloc[train_idx]\n",
    "\n",
    "  Xv = X_train.iloc[valid_idx]\n",
    "  Xv = Xv.reset_index().set_index([\"ID\"])\n",
    "  yv = y_train.iloc[valid_idx]\n",
    "\n",
    "  learner = LGBMClassifier(n_estimators=10000, random_state=s, objective=\"binary\")\n",
    "  learner.fit(Xt, yt, early_stopping_rounds=30, eval_set=[(Xt, yt), (Xv, yv)], verbose=0, eval_metric='logloss')  \n",
    "\n",
    "  apply_probs.append(pd.Series(learner.predict_proba(X_apply)[:, -1],index=X_apply.index, name=\"fold_\" + str(i)))\n",
    "  test_probs.append(pd.Series(learner.predict_proba(X_test)[:, -1],index=X_test.index, name=\"fold_\" + str(i)))\n",
    "  train_probs2.append(pd.Series(learner.predict_proba(Xv)[:, -1], index=Xv.index, name=\"fold_\" + str(i)))\n",
    "  fi.append(pd.Series(learner.feature_importances_ / learner.feature_importances_.sum(), index=Xt.columns))\n",
    "\n",
    "test_probs = pd.concat(test_probs, axis=1).mean(axis=1)\n",
    "apply_probs = pd.concat(apply_probs, axis=1).mean(axis=1)\n",
    "train_probs2 = pd.concat(train_probs2)\n",
    "\n",
    "fi = pd.concat(fi, axis=1).mean(axis=1)\n"
   ]
  },
  {
   "cell_type": "markdown",
   "metadata": {
    "colab_type": "text",
    "id": "8APLNNaXMbPr"
   },
   "source": [
    "### Importancia Variables\n",
    "Vemos la importancia relativa de las variables, asignada por el algoritmo en función a los cortes realizados y como ayudaron dichas variables a diferenciar las oportunidades exitosas del resto."
   ]
  },
  {
   "cell_type": "code",
   "execution_count": null,
   "metadata": {
    "colab": {
     "base_uri": "https://localhost:8080/",
     "height": 947
    },
    "colab_type": "code",
    "executionInfo": {
     "elapsed": 11245,
     "status": "ok",
     "timestamp": 1594147237316,
     "user": {
      "displayName": "Alan Panuccio",
      "photoUrl": "https://lh3.googleusercontent.com/a-/AOh14Gj5pUhc1iteLa1G3O6sr29Dwvqsv3WedQgaEkdi7A=s64",
      "userId": "12064921321119825687"
     },
     "user_tz": 180
    },
    "id": "lHszg2lXjA5D",
    "outputId": "2e742ba0-5c99-4d96-8bba-75637768dbef"
   },
   "outputs": [],
   "source": [
    "fi.sort_values(ascending=False).head(30).to_frame()"
   ]
  },
  {
   "cell_type": "markdown",
   "metadata": {
    "colab_type": "text",
    "id": "JtSdpRR_Nan_"
   },
   "source": [
    "### Métrica de evaluación\n",
    "La métrica de evaluación aplicada para la competencia fué Logistict Loss, en mi caso en particular analice la misma métrica dentro y fuera del set de datos de entrenamiento, la métrica *CV* refiere a la calculada por el set de validación dentro de la validación cruzada y la métrica en testing, refiere al 20% de datos separado y jamás utilizando para ningún tipo de entrenamiento/validación.\n",
    "\n",
    "Esto me ayudó a entender que modelos tenían una cota de overfitting que no estaba del todo clara utilizando solo una métrica definitiva.\n",
    "\n",
    "IMPORTANTE: A los fines de la competencia, utilice el modelo con mejor score pero **a sabiendas de que este modelo tiene un cierto grado de overfitting**, pero dado que el 50% de la nota dependía del score tomé esa decisión. En un **modelo real seleccionaría el modelo más estable** y donde tuviera menos dispersion de score tanto dentro del Cross Validation como en el set de datos de Testing."
   ]
  },
  {
   "cell_type": "code",
   "execution_count": null,
   "metadata": {
    "colab": {
     "base_uri": "https://localhost:8080/",
     "height": 52
    },
    "colab_type": "code",
    "executionInfo": {
     "elapsed": 9697,
     "status": "ok",
     "timestamp": 1594147237318,
     "user": {
      "displayName": "Alan Panuccio",
      "photoUrl": "https://lh3.googleusercontent.com/a-/AOh14Gj5pUhc1iteLa1G3O6sr29Dwvqsv3WedQgaEkdi7A=s64",
      "userId": "12064921321119825687"
     },
     "user_tz": 180
    },
    "id": "ClMfFNxP-Vtt",
    "outputId": "df3e6ea9-da9e-405e-b4aa-462dc4d771f4"
   },
   "outputs": [],
   "source": [
    "# Métrica de evaluación\n",
    "print(\"CV SCORE: \"+str(log_loss(y_train.sort_index(), train_probs2.sort_index())))\n",
    "\n",
    "print(\"TEST SCORE: \"+str(log_loss(y_test, test_probs)))"
   ]
  },
  {
   "cell_type": "markdown",
   "metadata": {
    "colab_type": "text",
    "id": "zY5HlaH2Of21"
   },
   "source": [
    "### Ensamble Final\n",
    "Para terminar calculo la probabilidad final asignada a cada oportunidad, en función de la probabilidad promedio calculada por los 20 modelos que se generaron dentro del proceso de validación cruzada."
   ]
  },
  {
   "cell_type": "code",
   "execution_count": null,
   "metadata": {
    "colab": {
     "base_uri": "https://localhost:8080/",
     "height": 215
    },
    "colab_type": "code",
    "executionInfo": {
     "elapsed": 956,
     "status": "ok",
     "timestamp": 1594147241386,
     "user": {
      "displayName": "Alan Panuccio",
      "photoUrl": "https://lh3.googleusercontent.com/a-/AOh14Gj5pUhc1iteLa1G3O6sr29Dwvqsv3WedQgaEkdi7A=s64",
      "userId": "12064921321119825687"
     },
     "user_tz": 180
    },
    "id": "FvUrylLOGC_-",
    "outputId": "adc3e051-a976-4cfc-f11e-1272ad0b7dcc"
   },
   "outputs": [],
   "source": [
    "# Calculo la probabilidad mayor de cada oportunidad\n",
    "apply_probs.name='PROB'\n",
    "result = apply.reset_index().merge(apply_probs, on='ID').reset_index()[['Opportunity_ID','PROB']]\n",
    "result.columns=['Opportunity_ID','PROB']\n",
    "result.to_csv(BASE_PATH+\"submission_prob.csv\", sep=',', header=False, index=False)\n",
    "\n",
    "print(result.shape)\n",
    "result.head(5)"
   ]
  },
  {
   "cell_type": "markdown",
   "metadata": {
    "colab_type": "text",
    "id": "XvkLGGe6HkkJ"
   },
   "source": [
    "### Curva ROC"
   ]
  },
  {
   "cell_type": "code",
   "execution_count": null,
   "metadata": {
    "colab": {
     "base_uri": "https://localhost:8080/",
     "height": 567
    },
    "colab_type": "code",
    "executionInfo": {
     "elapsed": 1507,
     "status": "ok",
     "timestamp": 1594147247000,
     "user": {
      "displayName": "Alan Panuccio",
      "photoUrl": "https://lh3.googleusercontent.com/a-/AOh14Gj5pUhc1iteLa1G3O6sr29Dwvqsv3WedQgaEkdi7A=s64",
      "userId": "12064921321119825687"
     },
     "user_tz": 180
    },
    "id": "KGdcNddzHmkg",
    "outputId": "d17b6fe3-f870-4936-eefd-f3404e82b20f"
   },
   "outputs": [],
   "source": [
    "plt.figure(figsize=(30,15))\n",
    "\n",
    "y_pred_proba = test_probs\n",
    "fpr, tpr, _ = metrics.roc_curve(y_test,  y_pred_proba)\n",
    "auc = metrics.roc_auc_score(y_test, y_pred_proba)\n",
    "print(\"AUC - Area Under the Curve - Área Bajo la Curva: {}\".format(auc))\n",
    "\n",
    "# Graficamos la curva roc del arbol\n",
    "plt.plot(fpr,tpr,label=\"AUC=\"+str(round(auc,3)))\n",
    "plt.xlabel('% Fracasos', fontsize=14)\n",
    "plt.ylabel('% Éxitos', fontsize=14)\n",
    "plt.legend(loc=4, fontsize=12)\n",
    "\n",
    "# Graficamos la recta del azar\n",
    "it = [i/100 for i in range(100)]\n",
    "plt.plot(it,it,label=\"AZAR, AUC=0.5\",color=\"red\")\n",
    "\n",
    "plt.title(\"Curva ROC\", fontsize=14)\n",
    "plt.tick_params(labelsize=12);\n",
    "plt.show()"
   ]
  },
  {
   "cell_type": "markdown",
   "metadata": {
    "colab_type": "text",
    "id": "bwC-JBml_tQT"
   },
   "source": [
    "## Explicación del Modelo Propuesto\n",
    "Dada la existencia del falso predictor **Sales_Contract_No**, la explicación del modelo estaría acotada, ya que se centra principalmente en dicha variable y no permite una mayor profundidad en las variables reales de interpretación, por esto voy a explicar un modelo omitiendo el uso de la misma."
   ]
  },
  {
   "cell_type": "markdown",
   "metadata": {
    "colab_type": "text",
    "id": "z5K51zo9XXly"
   },
   "source": [
    "### Interpretación Visual\n",
    "Ya que el modelo propuesto pierde capacidad explicativa en post de ganar poder predictivo a travez del uso de Boosting de Árboles de Decisión y un ensemble de 20 capas, definí utilizar un modelo más simple que permita explicar el set de datos en función de la solución planteada, esto sería de cara a una presentación para ejecutivos del tipo C-Level.\n",
    "\n",
    "Para esto utilizo el algoritmo `DecisionTreeClassifier` que representa un solo árbol y admite visualización del mismo, asi como las reglas generadas."
   ]
  },
  {
   "cell_type": "code",
   "execution_count": null,
   "metadata": {
    "colab": {
     "base_uri": "https://localhost:8080/",
     "height": 250
    },
    "colab_type": "code",
    "executionInfo": {
     "elapsed": 5383,
     "status": "ok",
     "timestamp": 1594147253558,
     "user": {
      "displayName": "Alan Panuccio",
      "photoUrl": "https://lh3.googleusercontent.com/a-/AOh14Gj5pUhc1iteLa1G3O6sr29Dwvqsv3WedQgaEkdi7A=s64",
      "userId": "12064921321119825687"
     },
     "user_tz": 180
    },
    "id": "PT_UZ_frAjOP",
    "outputId": "a83bbe34-66aa-4950-8600-9da74361a095"
   },
   "outputs": [],
   "source": [
    "plt.figure(figsize=(30,15))\n",
    "\n",
    "# Entrenamos un arbol pequeño (altura 5) que permita un análisis intuitivo\n",
    "X_train_i = copy.copy(X_train)\n",
    "X_train_i.drop([\"Sales_Contract_No\",\"con_sales_contract\",\"ifnullSales_Contract_No\"], axis=1, inplace=True)\n",
    "X_train_i[X_train_i==np.inf]=np.nan\n",
    "X_train_i.fillna(-1, inplace=True)\n",
    "treeclf = DecisionTreeClassifier(max_depth=7, min_samples_leaf=100, random_state=1)\n",
    "treeclf.fit(X_train_i, y_train)\n",
    "\n",
    "# Visualizamos el árbol generado usando graphviz\n",
    "dot_data = export_graphviz(treeclf, out_file=None,  \n",
    "                feature_names=X_train_i.columns,  # contiene los atributos predictores\n",
    "                filled=True, rounded=True,  \n",
    "                special_characters=True)  \n",
    "graph = pydotplus.graph_from_dot_data(dot_data)\n",
    "Image(graph.create_png())"
   ]
  },
  {
   "cell_type": "markdown",
   "metadata": {
    "colab_type": "text",
    "id": "2qhvII0zXSlY"
   },
   "source": [
    "### Curva ROC"
   ]
  },
  {
   "cell_type": "code",
   "execution_count": null,
   "metadata": {
    "colab": {
     "base_uri": "https://localhost:8080/",
     "height": 567
    },
    "colab_type": "code",
    "executionInfo": {
     "elapsed": 3578,
     "status": "ok",
     "timestamp": 1594147253560,
     "user": {
      "displayName": "Alan Panuccio",
      "photoUrl": "https://lh3.googleusercontent.com/a-/AOh14Gj5pUhc1iteLa1G3O6sr29Dwvqsv3WedQgaEkdi7A=s64",
      "userId": "12064921321119825687"
     },
     "user_tz": 180
    },
    "id": "2ZQVc3w7Fzni",
    "outputId": "fd940063-7ad2-4b61-92f5-98215a9a42a7"
   },
   "outputs": [],
   "source": [
    "plt.figure(figsize=(30,15))\n",
    "\n",
    "X_test_i = copy.copy(X_test)\n",
    "X_test_i.drop([\"Sales_Contract_No\",\"con_sales_contract\",\"ifnullSales_Contract_No\"], axis=1, inplace=True)\n",
    "X_test_i[X_test_i==np.inf]=np.nan\n",
    "X_test_i.fillna(-1, inplace=True)\n",
    "\n",
    "y_pred_proba = treeclf.predict_proba(X_test_i)[::,1]\n",
    "fpr, tpr, _ = metrics.roc_curve(y_test,  y_pred_proba)\n",
    "auc = metrics.roc_auc_score(y_test, y_pred_proba)\n",
    "print(\"AUC - Area Under the Curve - Área Bajo la Curva: {}\".format(auc))\n",
    "\n",
    "# Graficamos la curva roc del arbol\n",
    "plt.plot(fpr,tpr,label=\"AUC=\"+str(round(auc,3)))\n",
    "plt.xlabel('% Fracasos', fontsize=14)\n",
    "plt.ylabel('% Éxitos', fontsize=14)\n",
    "plt.legend(loc=4, fontsize=12)\n",
    "\n",
    "# Graficamos la recta del azar\n",
    "it = [i/100 for i in range(100)]\n",
    "plt.plot(it,it,label=\"AZAR, AUC=0.5\",color=\"red\")\n",
    "\n",
    "plt.title(\"Curva ROC\", fontsize=14)\n",
    "plt.tick_params(labelsize=12);\n",
    "plt.show()"
   ]
  },
  {
   "cell_type": "markdown",
   "metadata": {
    "colab_type": "text",
    "id": "oeF7rR-vWYRI"
   },
   "source": [
    "Podemos ver que, incluso sin la variables `Sales_contract_No` el modelo sigue teniendo alto poder predictivo, con un **AUC de 89%**."
   ]
  },
  {
   "cell_type": "markdown",
   "metadata": {
    "colab_type": "text",
    "id": "csAUmCl7WriV"
   },
   "source": [
    "### Variables Importantes\n",
    "Podemos ver que, en ausencia de la variable `Sales_contract_No`, otra variable que toma gran peso es el tiempo minimo hasta la entrega: `tiempo_entrega_m`.\n",
    "\n",
    "Según pudimos ver en el gráfico del árbol, la misma permite separar con buen nivel de detalle, las oportunidades exitosas del resto."
   ]
  },
  {
   "cell_type": "code",
   "execution_count": null,
   "metadata": {
    "colab": {
     "base_uri": "https://localhost:8080/",
     "height": 347
    },
    "colab_type": "code",
    "executionInfo": {
     "elapsed": 1195,
     "status": "ok",
     "timestamp": 1594147253563,
     "user": {
      "displayName": "Alan Panuccio",
      "photoUrl": "https://lh3.googleusercontent.com/a-/AOh14Gj5pUhc1iteLa1G3O6sr29Dwvqsv3WedQgaEkdi7A=s64",
      "userId": "12064921321119825687"
     },
     "user_tz": 180
    },
    "id": "IUCKUs-cIHe3",
    "outputId": "956228ee-443e-4c94-cedb-44839a6c72be"
   },
   "outputs": [],
   "source": [
    "pd.DataFrame({'Atributo':X_train_i.columns,\n",
    "              'importancia':treeclf.feature_importances_}).sort_values('importancia',\n",
    "                                                                       ascending=False).head(10)"
   ]
  },
  {
   "cell_type": "markdown",
   "metadata": {
    "colab_type": "text",
    "id": "rMBkpyfZYQrN"
   },
   "source": [
    "## Aprendizajes\n",
    "En lineas generales me pareció una competencia interesante, que me permitió aplicar mis conocimientos en el Machine Learning a un sector distinto al cual trabajo.\n",
    "\n",
    "La existencia de un falso predictor tan marcado, me generó algunas dudas sobre si debía o no incluirlo, más alla de destacar en el informe que en un modelo real no debería utilizarse.\n",
    "\n",
    "Por otro lado, me quedan muchos puntos a validar en los cuales no pude profundizar por no tener información adicional sobre el negocio y la empresa."
   ]
  },
  {
   "cell_type": "markdown",
   "metadata": {
    "colab_type": "text",
    "id": "7ZLxU9HBZCIA"
   },
   "source": [
    "## Beneficios para el Cliente\n",
    "Dejando de lado el falso predictor, el modelo aporta una herramienta de scoring y priorización de oportunidades que permite invertir esfuerzo en oportunidades con mejor proyección de ser exitosas.\n",
    "\n",
    "Por otro lado, interpretando los resultados del modelo, también se puede profundizar en que puntos llevan al fracaso de una oportunidad. Por dar un ejemplo, en base al último modelo generado (la versión simplificada) podríamos analizar si estan correctamente seteadas las fechas de entrega pactadas o si se estan infra-estimando los tiempos y al no poder ser cumplidos, la oportunidad fracasa.\n",
    "\n",
    "Este tipo de análisis, debe realizarse primero de forma exploratoria y comprobarse con casos de ejemplo y pruebas en producción."
   ]
  },
  {
   "cell_type": "markdown",
   "metadata": {
    "colab_type": "text",
    "id": "pzE6zP23gsae"
   },
   "source": [
    "## Recomendaciones al Cliente\n",
    "Las recomendaciones las fuí comentando a travez del notebook, pero creo que uno de los puntos principales sería la construcción de un datamart más complejo con fotos históricas de las oportunidades, un punto de partida sería tomar fotos de la base actual todos los meses y que ahora una observación sea una oportunidad en un mes dado.\n",
    "\n",
    "Esto, sin lugar a dudas permitiría entender mejor la evolución de las oportunidades, y agregar información que hoy no está presente en el set de datos. Por dar un ejemplo, ¿hace cuanto tiempo no se gestiona una oportunidad?¿Cuanto tarda en promedio cada oportunidad por pasar por cada estado?¿Como viene avanzando la oportunidad en función del tiempo promedio de avance del resto de las operaciones?\n",
    "\n",
    "Por otro lado, recomendaría agregar información sobre el cliente destino y relacionado al costo (en tiempo y/o dinero) de las importaciones/exportaciones, ya que esto permitiría entender que tan complejo es para el cliente de hacerse del producto y si esto influye o no en su probabilidad de éxito."
   ]
  },
  {
   "cell_type": "markdown",
   "metadata": {
    "colab_type": "text",
    "id": "jubRdy5ShmYp"
   },
   "source": [
    "## Lineas de mejora\n",
    "No tuve tiempo suficiente para realizar un tuning de hiperparámetros que de seguro permitiría mejorar la capacidad predictiva del modelo.\n",
    "\n",
    "Tampoco llegué a hacer un detalle pormenorizado de cada variable, para entender su comportamiento y tener más ideas para construcción de nuevas variables, hubo algunas variables que les realicé un encoding y las sume al modelo, pero sin un análisis más profundo que permitan entender porque suman o no al modelo.\n",
    "\n",
    "Me encantaría poder acceder a información relacionada a los clientes y a los gestores (quienes dan seguimiento a la oportunidad) para entender como influye su situación en la probabilidad de éxito, también tener un feedback más directo con la empresa e ir validando todas las inferencias que fuí detallando en el notebook.\n",
    "\n"
   ]
  },
  {
   "cell_type": "markdown",
   "metadata": {
    "colab_type": "text",
    "id": "GfyNhEolX8kZ"
   },
   "source": [
    "# Gracias"
   ]
  }
 ],
 "metadata": {
  "colab": {
   "collapsed_sections": [],
   "machine_shape": "hm",
   "name": "Predicción de éxito en oportunidades comerciales.ipynb",
   "provenance": [],
   "toc_visible": true
  },
  "kernelspec": {
   "display_name": "Python 3",
   "language": "python",
   "name": "python3"
  },
  "language_info": {
   "codemirror_mode": {
    "name": "ipython",
    "version": 3
   },
   "file_extension": ".py",
   "mimetype": "text/x-python",
   "name": "python",
   "nbconvert_exporter": "python",
   "pygments_lexer": "ipython3",
   "version": "3.7.3"
  }
 },
 "nbformat": 4,
 "nbformat_minor": 1
}
